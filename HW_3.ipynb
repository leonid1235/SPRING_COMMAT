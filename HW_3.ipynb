{
 "cells": [
  {
   "cell_type": "markdown",
   "metadata": {
    "id": "lox4P7tuKGLK"
   },
   "source": [
    "# Численное Интегрирование (обязательно сделать хотя бы 1 из звёздочек)\n",
    "\n",
    "# Квадратурные формулы Ньютона-Котеса."
   ]
  },
  {
   "cell_type": "markdown",
   "metadata": {
    "id": "WOzRaKoIKK_d"
   },
   "source": [
    "Пусть некоторая функция $f(x)$ задана в узлах интерполяции $x_{i}=x_{0}+i h(i=1,2, \\ldots, n)$ на отрезке $[a, b]$ таблицей своих значений:\n",
    "\n",
    "\\begin{array}{c|c|c|c|c}\n",
    "x_{0}=a & x_{1} & x_{2} & \\ldots & x_{n}=b \\\\\n",
    "\\hline y_{0}=f\\left(x_{0}\\right) & y_{1}=f\\left(x_{1}\\right) & y_{2}=f\\left(x_{2}\\right) & \\ldots & y_{n}=f\\left(x_{n}\\right)\n",
    "\\end{array} \n",
    "\n",
    "По заданным значениям подынтегральной терполяционный многочлен Лагранжа. Для равноотстояших узлов интерноляционный многочлен Лагранжа. Для равноотстоящих узлов интерполяционный многочлен Лагранжа имеет вид  \n",
    "\n",
    "$\n",
    "L_{n}(x)=\\sum_{i=0}^{n} \\frac{(-1)^{n-1}}{i !(n-i) !} \\frac{q(q-1) \\ldots(q-n)}{q-1} y_{i}  \n",
    "$\n",
    "\n",
    "$\n",
    "\\text { где } q=\\frac{x-x_{0}}{h}-\\text { шаг интерполяции. } \n",
    "$"
   ]
  },
  {
   "cell_type": "markdown",
   "metadata": {
    "id": "c-P2H8WFLqc0"
   },
   "source": [
    "Заменим подынтегральную функцию $f(x)$ интерполяционным многочленом Лагранжа, тогда\n",
    "$$\n",
    "\\int_{a}^{b} f(x) d x \\approx \\int_{x_{i}}^{x_{n}}\\left[\\sum_{i=0}^{n} \\frac{(-1) n-1}{i !(n-i) !} \\frac{q(q-1) \\ldots(q-n)}{q-i} y_{i}\\right] d x .\n",
    "$$\n",
    "Поменяем местами знак суммирования и интеграл и вынесем за знак интеграла постоянные коэффициенты:\n",
    "$$\n",
    "\\int_{a}^{b} f(x) d x \\approx \\sum_{i=0}^{n} y_{i} \\frac{(-1)^{n-1}}{i !(n-i) !} \\int_{x_{0}}^{x_{n}} \\frac{q(q-1) \\ldots(q-n)}{q-i} d x .\n",
    "$$\n",
    "Поскольку $d q=\\frac{d x}{h}$ и $h=\\frac{b-a}{n}$, то, заменив пределы интегрирования, получим\n",
    "$$\n",
    "\\begin{gathered}\n",
    "\\int_{a}^{b} f(x) d x \\approx(b-a) \\times \\\\\n",
    "\\times \\sum_{i=0}^{n} y_{i} \\frac{(-1)^{n-i}}{i !(n-i) !} \\frac{1}{n} \\int_{0}^{n} q(q-1) \\ldots(q-i+1)(q-i-1) \\ldots(q-n) d q .\n",
    "\\end{gathered}\n",
    "$$\n",
    "\n",
    "Положим\n",
    "\n",
    "$$\n",
    "H_{i}=\\frac{(-1)^{n-i}}{i !(n-i) !} \\frac{1}{n} \\int_{0}^{n} q(q-1) \\ldots(q-i+1)(q-i-1) \\ldots(q-n) d q\n",
    "$$\n",
    "\n",
    "где $i=0,1,2, \\ldots, n$.  "
   ]
  },
  {
   "cell_type": "markdown",
   "metadata": {
    "id": "WO1COI4KL_Rk"
   },
   "source": [
    "Числа $H_{i}$ называются коэффициентами Ньютона - Котеса. Они не зависят от вида функции $f(x)$ и являются функцией только $n$ (количества узлов интерполирования). Коэффициенты Ньютона - Котеса можно вычислить заранее для различного числа узлов интерполирования и свести в табл. 4.1.\n",
    "Окончательный вид формулы Ньютон - Котеса:\n",
    "$$\n",
    "\\int_{a}^{b} f(x) d x \\approx(b-a) \\sum_{i=0}^{n} y_{i} H_{i}\n",
    "$$  "
   ]
  },
  {
   "cell_type": "markdown",
   "metadata": {
    "id": "Uc9TEOfUMMI7"
   },
   "source": [
    "\\begin{array}{|c|c|}\n",
    "\\hline n=1 & H_{0}=H_{1}=\\frac{1}{2} \\\\\n",
    "\\hline n=2 & H_{0}=H_{2}=\\frac{1}{6}, H_{1}=\\frac{2}{3} \\\\\n",
    "\\hline n=3 & H_{0}=H_{3}=\\frac{1}{8}, H_{1}=H_{2}=\\frac{3}{8} \\\\\n",
    "\\hline n=4 & H_{0}=H_{4}=\\frac{7}{90}, H_{1}=H_{3}=\\frac{16}{45}, H_{2}=\\frac{2}{15} \\\\\n",
    "\\hline n=5 & H_{0}=H_{5}=\\frac{19}{288}, H_{1}=H_{4}=\\frac{25}{96}, H_{2}=H_{3}=\\frac{25}{144} \\\\\n",
    "\\hline n=6 & H_{0}=H_{6}=\\frac{41}{840}, H_{1}=H_{5}=\\frac{9}{35}, H_{2}=H_{4}=\\frac{9}{280}, H_{3}=\\frac{34}{105} \\\\\n",
    "\\hline n=7 & H_{0}=H_{7}=\\frac{751}{17280}, H_{1}=H_{6}=\\frac{3577}{17280}, H_{2}=H_{5}=\\frac{1323}{17280}, H_{3}=H_{4}=\\frac{2989}{17280} \\\\\n",
    "\\hline\n",
    "\\end{array}   "
   ]
  },
  {
   "cell_type": "markdown",
   "metadata": {
    "id": "zgQQjeH7LfNm"
   },
   "source": []
  },
  {
   "cell_type": "markdown",
   "metadata": {
    "id": "w4ZXuthBMfvz"
   },
   "source": [
    "# Квадратурная формула Чебышева."
   ]
  },
  {
   "cell_type": "markdown",
   "metadata": {
    "id": "wzs3CDjyMleU"
   },
   "source": [
    "П. Л. Чебышев предложил для вычисления определенных интегралов воспользоваться формулой\n",
    "$$\n",
    "\\int_{a}^{b} f(x) d x \\approx(b-a) \\sum_{i=0}^{n} c_{i} f\\left(x_{i}\\right),\n",
    "$$\n",
    "в которой квадратурные коэффициенты $c_{i}(i=1,2, \\ldots, n)$ фиксированы, а абсциссы $x_{i}(i=1,2, \\ldots, n)$ нужно определить.\n",
    "\n",
    "Для упрощения вычислений выберем $c_{1}=c_{2}=\\ldots=c_{n}$ и будем интегрировать на отрезке $[-1,1] .$ Тогда формула примет вид \n",
    "$$\n",
    "\\int_{-1}^{1} f(x) d x= {2*c}\\left[f\\left(x_{1}\\right)+f\\left(x_{2}\\right)+\\ldots+f\\left(x_{n}\\right)\\right]  \n",
    "$$\n",
    "\n",
    "Коэффициент и узлы определим из условия, что это равенство является точным для случая, когда $f(x)-$ многочлен вида\n",
    "\n",
    "$$\n",
    "f(x)=a_{0}+a_{1} x+a_{2} x^{2}+a_{3} x^{3}+\\ldots+a_{n} x^{n}\n",
    "$$  \n",
    "\n",
    "Подставим этот многочлен и проинтегрируем. В результате получим\n",
    "\n",
    "$$\n",
    "\\int_{-1}^{1}\\left(a_{0}+a_{1} x+a_{2} x^{2}+a_{3} x^{3}+\\ldots+a_{n} x^{n}\\right) d x=2\\left(a_{0}+\\frac{a_{2}}{3}+\\frac{a_{4}}{5}+\\ldots\\right) .\n",
    "$$\n",
    "\n",
    "Далее\n",
    "\n",
    "\n",
    "$f\\left(x_{1}\\right)=a_{0}+a_{1} x_{1}+a_{2} x_{1}^{2}+\\ldots+a_{n} x_{1}^{n}$,\n",
    "$f\\left(x_{2}\\right)=a_{0}+a_{1} x_{2}+a_{2} x_{2}^{2}+\\ldots+a_{n} x_{2}^{n}$,\n",
    "$f\\left(x_{3}\\right)=a_{0}+a_{1} x_{3}+a_{2} x_{3}^{2}+\\ldots+a_{n} x_{n}^{n}$,\n",
    "$f\\left(x_{n}\\right)=a_{0}+a_{1} x_{n}+a_{2} x_{n}^{2}+\\ldots+a_{n} x_{n}^{n} .$\n",
    "\n",
    "\n",
    "Тогда равенство  примет вид\n",
    "\n",
    "$$\n",
    "\\begin{gathered}\n",
    "2\\left(a_{0}+\\frac{a_{2}}{3}+\\frac{a_{4}}{5}+\\ldots\\right)=2 c_{n}\\left[n a_{0}+a_{1}\\left(x_{1}+x_{2}+\\ldots+x_{n}\\right)+\\right. \\\\\n",
    "+a_{2}\\left(x_{1}^{2}+x_{2}^{2}+\\ldots+x_{n}^{2}\\right)+a_{3}\\left(x_{1}^{3}+x_{2}^{3}+\\ldots+x_{n}^{3}\\right)+\\ldots \\\\\n",
    "\\left.\\ldots+a_{n}\\left(x_{1}^{n}+x_{2}^{n}+\\ldots+x_{n}^{n}\\right)\\right] .\n",
    "\\end{gathered}\n",
    "$$   \n",
    "\n",
    "\n",
    "\n"
   ]
  },
  {
   "cell_type": "markdown",
   "metadata": {
    "id": "hEq-9YedOSG1"
   },
   "source": [
    "Полученное равенство должно выполняться при любых значениях $a_{0}, a_{1}, \\ldots, a_{n} .$ Поэтому из сравнения коэффициентов $a_{i}$ в правой и левой частях соотношения (4) находим, что $n c_{n}=1$, откуда\n",
    "$$\n",
    "c_{n}=\\frac{1}{n}\n",
    "$$\n",
    "и, кроме того,\n",
    "$$\n",
    "\\left\\{\\begin{array}{c}\n",
    "x_{1}+x_{2}+x_{3}+\\ldots x_{n}=0 \\\\\n",
    "x_{1}^{2}+x_{2}^{2}+x_{3}^{2}+\\ldots+x_{n}^{2}=\\frac{n}{3} \\\\\n",
    "x_{1}^{3}+x_{2}^{3}+x_{3}^{3}+\\ldots+x_{n}^{3}=0 \\\\\n",
    "x_{1}^{4}+x_{2}^{4}+x_{3}^{4}+\\ldots+x_{n}^{4}=\\frac{n}{5} \\\\\n",
    "\\left.\\cdot \\cdot \\cdot \\cdot \\cdot \\cdot \\cdot \\cdot \\cdot \\cdot \\cdot \\cdot \\cdot \\cdot \\cdot \\cdot \\cdot \\cdot \\cdot \\cdot \\cdot \\cdot(-1)^{n+1}\\right] \\\\\n",
    "x_{1}^{n}+x_{2}^{n}+x_{3}^{n}+\\ldots+x_{n}^{n}=\\frac{n\\left[1-(-1)^{n+1}\\right]}{2(n+1)}\n",
    "\\end{array}\\right.\n",
    "$$  \n",
    "\n",
    "Подставляя найденное выражение $c_{n}$, получим формулу Чебышева:\n",
    "\n",
    "$$\n",
    "\\int_{-1}^{1} f(x) d x \\approx \\frac{2}{n}\\left[f\\left(x_{1}\\right)+f\\left(x_{2}\\right)+\\ldots f\\left(x_{n}\\right)\\right]\n",
    "$$\n",
    "\n",
    "где точки $x_{1}, x_{2}, \\ldots, x_{n}$ определяются из системы уравнений.   \n",
    "\n"
   ]
  },
  {
   "cell_type": "markdown",
   "metadata": {
    "id": "u1TUYDoOPJp9"
   },
   "source": [
    "# Квадратурная формула Гаусса."
   ]
  },
  {
   "cell_type": "markdown",
   "metadata": {
    "id": "tm1tyq06PMUl"
   },
   "source": [
    "В формулах численного интегрирования Ньютона-Котеса используются равноотстоящие узлы. В случае квадратурных формул Гаусса узлы интегрирования $x_{i}$ на отрезке $\\left[x_{j-1}, x_{j}\\right]$ располагаются не равномерно, а выбираются таким образом, чтобы при наименьшем возможном числе узлов точно интегрировать многочлены наивысшей возможной степени.\n",
    "\n",
    "$$\n",
    "\\int_{a}^{b} f(x) \\cdot d x \\approx \\frac{b-a}{2 N} \\sum_{j=1}^{N} \\sum_{i=0}^{n} c_{i n} \\cdot f\\left(x_{i}\\right)\n",
    "$$\n",
    "\n",
    "Узлы $x_{i}$ являются корнями полинома Лежандра степени $n$, а веса вычисляются интегрированием полиномов Лежандра по формуле $a_{i}=\\frac{2}{\\left(1-x_{i}^{2}\\right)\\left[P_{n}^{\\prime}\\left(x_{i}\\right)\\right]^{2}}$, где $P_{n}^{\\prime}-$ первая производная полинома Лежандра.  \n",
    "\n"
   ]
  },
  {
   "cell_type": "markdown",
   "metadata": {
    "id": "AFW0C7GaP1g0"
   },
   "source": [
    "\\begin{aligned}\n",
    "&\\text { Таблица 2.2: Весовые коэффициенты и значения аргумента. }\\\\\n",
    "&\\begin{array}{cccc}\n",
    "\\hline \\begin{array}{c}\n",
    "\\text { Число точек } n \\\\\n",
    "\\text { в квадратуре }\n",
    "\\end{array} & \\begin{array}{c}\n",
    "\\text { Весовые } \\\\\n",
    "\\text { коэффициенты }\n",
    "\\end{array} & \\begin{array}{c}\n",
    "\\text { Значения } \\\\\n",
    "\\text { аргумента }\n",
    "\\end{array} & \\begin{array}{c}\n",
    "\\text { Погрешность } \\\\\n",
    "\\text { аппроксимации }\n",
    "\\end{array} \\\\\n",
    "\\hline 2 & w_{0}=1,000000000 & x_{0}=-0,577350269 & \\sim f^{(4)}(x) \\\\\n",
    "& w_{1}=1,000000000 & x_{1}=+0,577350269 & \\\\\n",
    "3 & w_{0}=0,555555556 & x_{0}=-0,774596669 & \\sim f^{(6)}(x) \\\\\n",
    "& w_{1}=0,888888889 & x_{1}=+0,000000000 & \\\\\n",
    "& w_{2}=0,555555556 & x_{2}=+0,774596669 & \\\\\n",
    "4 & w_{0}=0,347854845 & x_{0}=-0,861136312 & \\sim f^{(8)}(x) \\\\\n",
    "& w_{1}=0,652145155 & x_{1}=-0,339981044 & \\\\\n",
    "& w_{2}=0,652145155 & x_{2}=+0,339981044 & \\\\\n",
    "& w_{3}=0,347854845 & x_{3}=+0,861136312 & \\\\\n",
    "5 & w_{0}=0,236926885 & x_{0}=-0,906179846 & \\sim f^{(10)}(x) \\\\\n",
    "& w_{1}=0,478628670 & x_{1}=-0,538469310 & \\\\\n",
    "& w_{2}=0,568888889 & x_{2}=+0,000000000 & \\\\\n",
    "& w_{3}=0,478628670 & x_{3}=+0,538469310 & \\\\\n",
    "& w_{4}=0,236926885 & x_{4}=+0,906179846 & \\\\\n",
    "6 & w_{0}=0,171324492 & x_{0}=-0,932469514 & \\sim f^{(12)}(x) \\\\\n",
    "& w_{1}=0,360761573 & x_{1}=-0,661209386 & \\\\\n",
    "& w_{2}=0,467913935 & x_{2}=-0,238619186 & \\\\\n",
    "& w_{3}=0,467913935 & x_{3}=+0,238619186 & \\\\\n",
    "& w_{4}=0,360761573 & x_{4}=+0,661209386 & \\\\\n",
    "& w_{5}=0,171324492 & x_{5}=+0,932469514 & \\\\\n",
    "\\hline\n",
    "\\end{array}\n",
    "\\end{aligned}  \n",
    "\n"
   ]
  },
  {
   "cell_type": "markdown",
   "metadata": {
    "id": "zfFOQGhNQx-u"
   },
   "source": [
    "# Интегралы с особенностями."
   ]
  },
  {
   "cell_type": "markdown",
   "metadata": {
    "id": "vz_4uK1jQ0cs"
   },
   "source": [
    "Қак применять приведенные выше формулы для вычисления определенных интегралов с особенностями? Например, в случае, когда требуется вычислить интеграл\n",
    "\n",
    "$$\n",
    "\\int_{0}^{1} \\frac{f(x)}{\\sqrt{x}} d x\n",
    "$$\n",
    "\n",
    "где $f(x)$ - гладкая на интервале интегрирования функция. Подынтегральная функция стремится к бесконечности при $x \\rightarrow \\infty$ и прямое применение вышеприведенных методов вычисления интеграла, как правило, невозможно.\n",
    "В этом случае можно выделить особенность в нуле при помощи простого преобразования\n",
    "\n",
    "$$\n",
    "\\int_{0}^{1} \\frac{f(x)}{\\sqrt{x}} d x=\\int_{0}^{1} \\frac{f(x)-\\varphi(x)}{\\sqrt{x}} d x+\\int_{0}^{1} \\frac{\\varphi(x)}{\\sqrt{x}} d x\n",
    "$$\n",
    "\n",
    "где функция $\\varphi(x)$ выбирается так, чтобы первый интеграл в правой части не содержал особенности, а второй - вычислялся аналитически. Это справедливо, например, если в качестве $\\varphi(x)$ взять отрезок разложения функции $f(x)$ в ряд Тейлора в точке $x=0 .$ Тогда\n",
    "\n",
    "$$\n",
    "\\int_{0}^{1} \\frac{f(x)-f(0)-x f^{\\prime}(0)}{\\sqrt{(} x)} d x+f(0) \\int_{0}^{1} \\frac{1}{\\sqrt{x}} d x+f^{\\prime}(0) \\int_{0}^{1} \\sqrt{x} d x .\n",
    "$$  \n",
    "\n",
    "Пример. Для $f(x)=\\cos x$ вычисление интеграла $(2.9)$ сводится к вычислению\n",
    "\n",
    "$$\n",
    "\\int_{0}^{1} \\frac{\\cos x}{\\sqrt{x}} d x=\\int_{0}^{1}(\\cos x-1) x^{-1 / 2} d x+\\int_{0}^{1} x^{-1 / 2} d x\n",
    "$$\n",
    "\n",
    "Второе слагаемое справа равно 2, а первое можно вычислить с помощью, например формулы Симпсона, которая дает значение $\\approx 1,80905$ \n",
    "\n",
    "\n"
   ]
  },
  {
   "cell_type": "markdown",
   "metadata": {
    "id": "pJ9O_GkUSBnv"
   },
   "source": [
    "# Несобственные интегралы с внутренней особенностью."
   ]
  },
  {
   "cell_type": "markdown",
   "metadata": {
    "id": "eF5JAfKvSGJs"
   },
   "source": [
    "Если особая точка $C \\in[a, b]$, то используем простой приём, основанный на определении несобственного интеграла. Для этого интеграл представляют в виде: \n",
    "\n",
    "$\\int_{a}^{b} f(x) d x=\\int_{a}^{C-\\delta_{1}} f(x) d x+\\int_{C+\\delta_{2}}^{b} f(x) d x+\\int_{C-\\delta_{1}}^{C+\\delta_{2}} f(x) d x$,\n",
    "\n",
    "$$\n",
    "\\int_{a}^{b} f(x) d x=\\int_{a}^{C-\\delta_{1}} f(x) d x+\\int_{C+\\delta_{2}}^{b} f(x) d x+\\int_{C-\\delta_{1}}^{C+\\delta_{2}} f(x) d x\n",
    "$$\n",
    "\n",
    "\n",
    "причем $\\delta_{1}, \\delta_{2}$ выбирают столь малыми, чтобы в пределах заданной точности интеграл $\\rho=\\int_{C-\\delta_{1}}^{C+\\delta_{2}} f(x) d x$ не влиял бы на результат. \n",
    "\n",
    "Если вычисляется сходящийся несобственный интеграл 1-го рода \n",
    "\n",
    "$\\int_{a}^{\\infty} f(x) d x$, \n",
    "\n",
    "то для его приближенного вычисления используем равенство \n",
    "\n",
    "$\\int_{a}^{\\infty} f(x) d x=\\int_{a}^{B} f(x) d x+\\int_{B}^{\\infty} f(x) d x .$ \n",
    "\n",
    "Причем число $B$ берут настолько большим, чтобы в пределах заданной точности интеграл $\\int_{B}^{\\infty} f(x) d x$ не влиял бы на результат. Далее последний интеграл вычисляют по какой-либо квадратурной формуле с нужной точностью.  \n",
    "\n",
    "\n"
   ]
  },
  {
   "cell_type": "markdown",
   "metadata": {
    "id": "MxsIVZYxUnKm"
   },
   "source": [
    "# Интегралы от быстроосциллирующих функций."
   ]
  },
  {
   "cell_type": "markdown",
   "metadata": {
    "id": "JxweMCcMUqw1"
   },
   "source": [
    "Вычисление интегралов от быстроосциллирующих функций встречается в задачах физики очень часто. Можно конечно вычислять интегралы от быстроосциллирующих функций, напрямую используя рассмотренные выше формулы, однако, это зачастую требует очень больших вычислительных затрат, поскольку шаг интегрирования нужно брать по крайней мере в несколько раз меньше периода осцилляций. Кроме того, вычисления должны проводиться с достаточной точностью, а при интегрировании осциллирующей функции происходит быстрая потеря точности из-за суммирования близких величин с противоположными знаками (интегралы от отдельных полупериодов ). Поэтому на практике используется другой прием.\n",
    "\n",
    "Пример.Рассмотрим вычисление интеграла\n",
    "\n",
    "$$\n",
    "\\int_{0}^{\\pi} f(x) \\sin k x d x\n",
    "$$\n",
    "\n",
    "где $k$ - большое число, например, 1000 . Аппроксимируем гладкую функцию $f(x)$ другой гладкой функцией $\\varphi(x)$, для которой интеграл (2.10) вычисляется аналитически. Тогда задача вычисления интеграла от $f(x) \\sin k x$ сводится к вычислению\n",
    "\n",
    "$$\n",
    "\\int_{0}^{\\pi} f(x) \\sin k x=\\int_{0}^{\\pi} \\varphi(x) \\sin k x d x+\\int_{0}^{\\pi}[f(x)-\\varphi(x)] \\sin k x d x\n",
    "$$\n",
    "\n",
    "Если в качестве $\\varphi(x)$ взять разложение $f(x)$ в ряд Тейлора, то второе слагаемое справа, как правило, мало и им можно пренебречь  "
   ]
  },
  {
   "cell_type": "markdown",
   "metadata": {
    "deletable": false,
    "editable": false,
    "id": "uQ9d5N68Be69",
    "nbgrader": {
     "cell_type": "markdown",
     "checksum": "76725925c1c2a3fda23efe2691cfa949",
     "grade": false,
     "grade_id": "cell-4d48d7afa1c0c5b4",
     "locked": true,
     "schema_version": 3,
     "solution": false,
     "task": false
    }
   },
   "source": [
    "# Вычисление определенных интегралов (задачи)."
   ]
  },
  {
   "cell_type": "markdown",
   "metadata": {
    "deletable": false,
    "editable": false,
    "id": "JVoAo0zQBe6-",
    "nbgrader": {
     "cell_type": "markdown",
     "checksum": "9a9c3cddcc11d2a8cc7f46935462ad6d",
     "grade": false,
     "grade_id": "cell-fc379192341494d5",
     "locked": true,
     "schema_version": 3,
     "solution": false,
     "task": false
    }
   },
   "source": [
    "## Задание 1. Двухточечная квадратура Гаусса.\n"
   ]
  },
  {
   "cell_type": "markdown",
   "metadata": {
    "id": "EO3Sh_bfCNNb"
   },
   "source": [
    "Постройте квадратурную формулу Гаусса, интегрирующую точно многочлены степеней вплоть до третьей на интервале $[a, b]$. Заметим, что для этого достаточно построить _двухточечную_ квадратуру.\n",
    "\n",
    "Напишите функцию, которая возвращает веса, $w_1$ и $w_2$, и узлы, $x_1$ и $x_2$, двухточечной квадратурной формулы Гаусса с весовой функцией $w(x) = 1$, т.е., интегралы вида\n",
    "\n",
    "$$\n",
    "\\int_a^b\\! f(x)\\, dx \\approx w_1 f(x_1) + w_2 f(x_2)\n",
    "$$"
   ]
  },
  {
   "cell_type": "code",
   "execution_count": 1,
   "metadata": {
    "ExecuteTime": {
     "end_time": "2023-02-07T12:13:03.221561Z",
     "start_time": "2023-02-07T12:13:03.215342Z"
    },
    "deletable": false,
    "id": "2hDGnq8xBe6-",
    "nbgrader": {
     "cell_type": "code",
     "checksum": "904166366d67e67506e3087dd19ce395",
     "grade": false,
     "grade_id": "cell-cf3c018fa371396b",
     "locked": false,
     "schema_version": 3,
     "solution": true,
     "task": false
    }
   },
   "outputs": [],
   "source": [
    "def gauss_2(a, b):\n",
    "    r\"\"\"Return nodes and weights for a two-point Gauss quadrature on [a, b].\n",
    "    \n",
    "    Parameters\n",
    "    ----------\n",
    "    a, b : float\n",
    "       Boundaries of the integration interval\n",
    "       \n",
    "    Returns\n",
    "    -------\n",
    "    x1, x2, w1, w2 : float\n",
    "       Nodes and weights of the quadrature.\n",
    "    \"\"\"\n",
    "    # YOUR CODE HERE\n",
    "    raise NotImplementedError()"
   ]
  },
  {
   "cell_type": "code",
   "execution_count": 2,
   "metadata": {
    "ExecuteTime": {
     "end_time": "2023-02-07T12:13:03.739216Z",
     "start_time": "2023-02-07T12:13:03.224198Z"
    },
    "deletable": false,
    "editable": false,
    "id": "Q_uTbOU3Be6_",
    "nbgrader": {
     "cell_type": "code",
     "checksum": "f5f7ba6f912752b91286d986fbb5bb7d",
     "grade": true,
     "grade_id": "cell-b6739a7f6045a9ec",
     "locked": true,
     "points": 10,
     "schema_version": 3,
     "solution": false,
     "task": false
    }
   },
   "outputs": [
    {
     "ename": "NotImplementedError",
     "evalue": "",
     "output_type": "error",
     "traceback": [
      "\u001b[0;31m---------------------------------------------------------------------------\u001b[0m",
      "\u001b[0;31mNotImplementedError\u001b[0m                       Traceback (most recent call last)",
      "Cell \u001b[0;32mIn [2], line 3\u001b[0m\n\u001b[1;32m      1\u001b[0m \u001b[38;5;28;01mfrom\u001b[39;00m \u001b[38;5;21;01mnumpy\u001b[39;00m\u001b[38;5;21;01m.\u001b[39;00m\u001b[38;5;21;01mtesting\u001b[39;00m \u001b[38;5;28;01mimport\u001b[39;00m assert_allclose\n\u001b[0;32m----> 3\u001b[0m x1, x2, w1, w2 \u001b[38;5;241m=\u001b[39m \u001b[43mgauss_2\u001b[49m\u001b[43m(\u001b[49m\u001b[38;5;241;43m0\u001b[39;49m\u001b[43m,\u001b[49m\u001b[43m \u001b[49m\u001b[38;5;241;43m1\u001b[39;49m\u001b[43m)\u001b[49m\n\u001b[1;32m      5\u001b[0m \u001b[38;5;28;01mdef\u001b[39;00m \u001b[38;5;21mf\u001b[39m(x, n): \n\u001b[1;32m      6\u001b[0m     \u001b[38;5;28;01mreturn\u001b[39;00m x\u001b[38;5;241m*\u001b[39m\u001b[38;5;241m*\u001b[39mn\n",
      "Cell \u001b[0;32mIn [1], line 15\u001b[0m, in \u001b[0;36mgauss_2\u001b[0;34m(a, b)\u001b[0m\n\u001b[1;32m      2\u001b[0m \u001b[38;5;124mr\u001b[39m\u001b[38;5;124;03m\"\"\"Return nodes and weights for a two-point Gauss quadrature on [a, b].\u001b[39;00m\n\u001b[1;32m      3\u001b[0m \u001b[38;5;124;03m\u001b[39;00m\n\u001b[1;32m      4\u001b[0m \u001b[38;5;124;03mParameters\u001b[39;00m\n\u001b[0;32m   (...)\u001b[0m\n\u001b[1;32m     12\u001b[0m \u001b[38;5;124;03m   Nodes and weights of the quadrature.\u001b[39;00m\n\u001b[1;32m     13\u001b[0m \u001b[38;5;124;03m\"\"\"\u001b[39;00m\n\u001b[1;32m     14\u001b[0m \u001b[38;5;66;03m# YOUR CODE HERE\u001b[39;00m\n\u001b[0;32m---> 15\u001b[0m \u001b[38;5;28;01mraise\u001b[39;00m \u001b[38;5;167;01mNotImplementedError\u001b[39;00m()\n",
      "\u001b[0;31mNotImplementedError\u001b[0m: "
     ]
    }
   ],
   "source": [
    "from numpy.testing import assert_allclose\n",
    "\n",
    "x1, x2, w1, w2 = gauss_2(0, 1)\n",
    "\n",
    "def f(x, n): \n",
    "    return x**n\n",
    "\n",
    "for n in [0, 1, 2, 3]:\n",
    "    assert_allclose(w1*f(x1, n=n) + w2*f(x2, n=n),\n",
    "                    1./(n+1), atol=1e-14)"
   ]
  },
  {
   "cell_type": "markdown",
   "metadata": {},
   "source": [
    "## Решение задания 1"
   ]
  },
  {
   "cell_type": "markdown",
   "metadata": {},
   "source": [
    "Для построения двухточечной квадратурной формулы Гаусса с весовой функцией $ w(x) = 1 $ на интервале $[a,b]$ существует несколько подходов. Один из самых популярных - это использование ортогональных полиномов Лежандра. Для данного случая они представлены следующим образом:\n",
    "\n",
    "$ L_0(x) = 1, $\n",
    "$ L_1(x) = x, $\n",
    "$ L_2(x) = \\frac{1}{2}(3x^2 - 1). $\n",
    "\n",
    "Находим корни полинома $ L_2(x) $ - они будут узлами квадратурной формулы Гаусса, а соответствующие им веса определяются следующим образом:\n",
    "\n",
    "$ w_1 = w_2 = \\int_{-1}^{1} 1 \\cdot dx = 2. $\n",
    "\n",
    "Теперь нужно преобразовать полученные узлы и веса с интервала $[-1, 1]$ к интервалу $[a, b]$:\n",
    "\n",
    "$ x_1 = \\frac{b - a}{2} \\cdot x_1^{*} + \\frac{a + b}{2}, $\n",
    "$ x_2 = \\frac{b - a}{2} \\cdot x_2^{*} + \\frac{a + b}{2}, $\n",
    "\n",
    "где $ x_1^{*} $ и $ x_2^{*} $ - корни полинома Лежандра степени 2 на интервале $[-1, 1]$.\n"
   ]
  },
  {
   "cell_type": "code",
   "execution_count": 2,
   "metadata": {},
   "outputs": [
    {
     "name": "stdout",
     "output_type": "stream",
     "text": [
      "Weights: 2.0 2.0\n",
      "Nodes: 0.42264973081037427 1.5773502691896257\n"
     ]
    }
   ],
   "source": [
    "import numpy as np\n",
    "from scipy.special import roots_legendre\n",
    "\n",
    "def gauss_quadrature_weights_and_nodes(a, b):\n",
    "    # Находим корни полинома Лежандра степени 2 и соответствующие веса\n",
    "    x_legendre, _ = roots_legendre(2)\n",
    "    \n",
    "    # Преобразуем узлы и веса к интервалу [a, b]\n",
    "    x1 = (b - a) / 2 * x_legendre[0] + (a + b) / 2\n",
    "    x2 = (b - a) / 2 * x_legendre[1] + (a + b) / 2\n",
    "    w1 = w2 = (b - a) / 2 * 2  # так как интеграл от 1 на интервале [-1, 1] равен 2\n",
    "    \n",
    "    return w1, w2, x1, x2\n",
    "\n",
    "# Пример использования\n",
    "a = 0\n",
    "b = 2\n",
    "w1, w2, x1, x2 = gauss_quadrature_weights_and_nodes(a, b)\n",
    "print(\"Weights:\", w1, w2)\n",
    "print(\"Nodes:\", x1, x2)\n"
   ]
  },
  {
   "cell_type": "markdown",
   "metadata": {},
   "source": [
    "Эта функция вернет весы и узлы для квадратурной формулы Гаусса на заданном интервале."
   ]
  },
  {
   "cell_type": "markdown",
   "metadata": {
    "deletable": false,
    "editable": false,
    "id": "ffXj--yFBe6_",
    "nbgrader": {
     "cell_type": "markdown",
     "checksum": "f0b361e7c3254cdb24248df735a6a6ef",
     "grade": false,
     "grade_id": "cell-08fc4ae6160d61c1",
     "locked": true,
     "schema_version": 3,
     "solution": false,
     "task": false
    }
   },
   "source": [
    "## Задание 2. Вычитание интегрируемых сингулярностей.\n",
    "\n"
   ]
  },
  {
   "cell_type": "markdown",
   "metadata": {
    "id": "CWD0MdaJCTfR"
   },
   "source": [
    "Вычислите определённый интеграл методом трапеций с вычитанием сингулярности\n",
    "\n",
    "$$\n",
    "I = \\int_{0}^{1}\\frac{e^x}{\\sqrt{x(1-x)}}dx.\n",
    "$$\n",
    "\n",
    "Вам могут пригодиться значения следующих определенных интегралов:\n",
    "\n",
    "$$\n",
    "\\int_0^1 \\frac{1}{\\sqrt{x (1-x)}} \\, dx=\\pi,\\quad \\int_0^1 \\frac{x}{\\sqrt{x (1-x)}} \\, dx=\\pi/2.\n",
    "$$"
   ]
  },
  {
   "cell_type": "markdown",
   "metadata": {
    "id": "9JQHAOQiBe7A"
   },
   "source": [
    "Преобразуйте данный интеграл, вычитая сингулярности. Выпишите расчетные формулы."
   ]
  },
  {
   "cell_type": "markdown",
   "metadata": {
    "deletable": false,
    "editable": false,
    "id": "mPFxQh-hBe7A",
    "nbgrader": {
     "cell_type": "markdown",
     "checksum": "85546100a8f30436f5555da4da442cca",
     "grade": false,
     "grade_id": "cell-6c554eec0b99fcb4",
     "locked": true,
     "schema_version": 3,
     "solution": false,
     "task": false
    }
   },
   "source": [
    "Cоставьте функцию, возвращающую значение интеграла методом трапеций."
   ]
  },
  {
   "cell_type": "code",
   "execution_count": 9,
   "metadata": {
    "ExecuteTime": {
     "end_time": "2023-02-07T12:13:03.741268Z",
     "start_time": "2023-02-07T12:13:03.741258Z"
    },
    "deletable": false,
    "id": "6MzqUCZ1Be7B",
    "nbgrader": {
     "cell_type": "code",
     "checksum": "094424dc42e9c4d3807980eaea9631f0",
     "grade": false,
     "grade_id": "cell-7fb345ac8e79dced",
     "locked": false,
     "schema_version": 3,
     "solution": true,
     "task": false
    }
   },
   "outputs": [],
   "source": [
    "def integ(npts=10):\n",
    "    \"\"\"Compute the value of the integral above.\n",
    "    \n",
    "    Subtract the singularities and use the trapezoid rule. \n",
    "    \n",
    "    Parameters\n",
    "    ----------\n",
    "    npts : int\n",
    "        The number of points for the trapezoid rule\n",
    "        \n",
    "    Returns\n",
    "    -------\n",
    "    I : float\n",
    "       The computed value of the integral\n",
    "    \"\"\"\n",
    "    # YOUR CODE HERE\n",
    "    raise NotImplementedError()"
   ]
  },
  {
   "cell_type": "code",
   "execution_count": 1,
   "metadata": {
    "ExecuteTime": {
     "end_time": "2023-02-07T12:13:03.742517Z",
     "start_time": "2023-02-07T12:13:03.742505Z"
    },
    "code_folding": [],
    "deletable": false,
    "editable": false,
    "id": "rfvWJXcqBe7B",
    "nbgrader": {
     "cell_type": "code",
     "checksum": "283a17e09f6c1cf78c0d201c6bf884eb",
     "grade": true,
     "grade_id": "cell-e24dd8dc92f2c8bd",
     "locked": true,
     "points": 10,
     "schema_version": 3,
     "solution": false,
     "task": false
    }
   },
   "outputs": [],
   "source": [
    "# this is a test to check your computed value\n",
    "from numpy.testing import assert_allclose\n"
   ]
  },
  {
   "cell_type": "markdown",
   "metadata": {
    "id": "fzBjg5i0CSRB"
   },
   "source": []
  },
  {
   "cell_type": "markdown",
   "metadata": {},
   "source": [
    "## Решение задания 2"
   ]
  },
  {
   "cell_type": "markdown",
   "metadata": {},
   "source": [
    "Для вычисления данного определённого интеграла методом трапеций с вычитанием сингулярности, сначала выразим интеграл $I$ через известные интегралы:\n",
    "\n",
    "$$\n",
    "I = \\int_{0}^{1}\\frac{e^x}{\\sqrt{x(1-x)}}dx = \\int_{0}^{1}\\frac{e^x}{\\sqrt{x}}\\frac{1}{\\sqrt{1-x}}dx.\n",
    "$$\n",
    "\n",
    "Затем разложим функцию под интегралом в ряд Тейлора в окрестности $x = 0$:\n",
    "\n",
    "$$\n",
    "\\frac{1}{\\sqrt{1-x}} = 1 + \\frac{x}{2} + O(x^2).\n",
    "$$\n",
    "\n",
    "Теперь мы можем переписать интеграл $I$ в следующем виде:\n",
    "\n",
    "$$\n",
    "I = \\int_{0}^{1}\\frac{e^x}{\\sqrt{x}}\\left(1 + \\frac{x}{2} + O(x^2)\\right)dx.\n",
    "$$\n",
    "\n",
    "Из этого выражения видно, что интеграл $I$ представляет собой линейную комбинацию интегралов вида $\\int_{0}^{1}\\frac{e^x}{\\sqrt{x}}dx$ и $\\int_{0}^{1}\\frac{x e^x}{\\sqrt{x}}dx$, которые могут быть вычислены с помощью предоставленных значений:\n",
    "\n",
    "$$\n",
    "\\int_{0}^{1}\\frac{e^x}{\\sqrt{x}}dx = \\pi, \\quad \\int_{0}^{1}\\frac{x e^x}{\\sqrt{x}}dx = \\frac{\\pi}{2}.\n",
    "$$\n",
    "\n",
    "Теперь можем выразить $I$ через эти интегралы:\n",
    "\n",
    "$$\n",
    "I = \\pi + \\frac{\\pi}{2} \\int_{0}^{1} x e^x dx.\n",
    "$$\n",
    "\n",
    "Затем, используя метод трапеций для вычисления интеграла $\\int_{0}^{1} x e^x dx$, получаем:\n",
    "\n",
    "$$\n",
    "\\int_{0}^{1} x e^x dx \\approx \\frac{1}{2}\\left(f(0) + f(1)\\right) = \\frac{1}{2}\\left(0 + e\\right) = \\frac{e}{2}.\n",
    "$$\n",
    "\n",
    "И, наконец, подставляем это обратно в выражение для $I$:\n",
    "\n",
    "$$\n",
    "I = \\pi + \\frac{\\pi}{2} \\cdot \\frac{e}{2} = \\pi + \\frac{\\pi e}{4}.\n",
    "$$\n",
    "\n",
    "Таким образом, получаем значение определенного интеграла:\n",
    "\n",
    "$$\n",
    "I = \\pi\\left(1 + \\frac{e}{4}\\right).\n",
    "$$\n",
    "\n",
    "\n"
   ]
  },
  {
   "cell_type": "markdown",
   "metadata": {},
   "source": [
    "Хорошо, давайте вычтем сингулярности из данного интеграла. Мы можем заметить, что функция под знаком интеграла имеет сингулярность при $x = 0$ и $x = 1$. Для того чтобы избежать этих сингулярностей, мы можем представить функцию в виде суммы основной части и вычитаемых сингулярностей:\n",
    "\n",
    "$\n",
    "\\frac{e^x}{\\sqrt{x(1-x)}} = \\frac{e^x}{\\sqrt{x}}\\frac{1}{\\sqrt{1-x}} = \\left(\\frac{e^x}{\\sqrt{x}} + \\frac{e^x}{\\sqrt{1-x}} - \\frac{e^x}{\\sqrt{x}}\\right)\\frac{1}{\\sqrt{1-x}}\n",
    "$\n",
    "\n",
    "Теперь мы можем интегрировать каждую из этих функций по отдельности, исключив сингулярности:\n",
    "\n",
    "1. Первый интеграл:\n",
    "$\n",
    "\\int_0^1 \\frac{e^x}{\\sqrt{x}} \\frac{1}{\\sqrt{1-x}} \\, dx\n",
    "$\n",
    "не имеет сингулярности в точке $x = 0$, поэтому его можно вычислить непосредственно.\n",
    "\n",
    "2. Второй интеграл:\n",
    "$\n",
    "\\int_0^1 \\frac{e^x}{\\sqrt{1-x}} \\frac{1}{\\sqrt{x}} \\, dx\n",
    "$\n",
    "имеет сингулярность в точке \\(x = 0\\), поэтому мы вычтем эту сингулярность. Заметим, что:\n",
    "$\n",
    "\\lim_{x \\to 0} \\frac{e^x}{\\sqrt{1-x}} = e\n",
    "$\n",
    "Интегрируя $\\frac{1}{\\sqrt{x}}$ в окрестности $x = 0$, мы получаем:\n",
    "$\n",
    "\\int_0^1 \\frac{1}{\\sqrt{x}} \\, dx = \\lim_{\\epsilon \\to 0^+} \\int_{\\epsilon}^1 \\frac{1}{\\sqrt{x}} \\, dx = \\lim_{\\epsilon \\to 0^+} \\left[2\\sqrt{x}\\right]_{\\epsilon}^1 = 2 - 0 = 2\n",
    "$\n",
    "Следовательно, мы можем вычесть сингулярность в $x = 0$ с помощью $2e$.\n",
    "\n",
    "3. Третий интеграл:\n",
    "$\n",
    "\\int_0^1 \\frac{e^x}{\\sqrt{x}} \\, dx\n",
    "$\n",
    "имеет сингулярность в точке \\(x = 0\\), поэтому мы также вычтем эту сингулярность. Заметим, что:\n",
    "$\n",
    "\\lim_{x \\to 0} \\frac{e^x}{\\sqrt{x}} = +\\infty\n",
    "$\n",
    "Интегрируя \\(1\\) в окрестности \\(x = 0\\), мы получаем:\n",
    "$\n",
    "\\int_0^1 1 \\, dx = 1\n",
    "$\n",
    "Следовательно, мы можем вычесть сингулярность в $x = 0$ с помощью $+\\infty$.\n",
    "\n",
    "Теперь мы можем записать исходный интеграл как разность трёх интегралов без сингулярностей:\n",
    "\n",
    "$\n",
    "I = \\int_0^1 \\left(\\frac{e^x}{\\sqrt{x(1-x)}} - \\frac{e^x}{\\sqrt{1-x}} + \\frac{e^x}{\\sqrt{x}}\\right) dx\n",
    "$\n"
   ]
  },
  {
   "cell_type": "code",
   "execution_count": 10,
   "metadata": {},
   "outputs": [
    {
     "name": "stdout",
     "output_type": "stream",
     "text": [
      "2.3350000000000004\n"
     ]
    }
   ],
   "source": [
    "import numpy as np\n",
    "\n",
    "def f(x):\n",
    "    \"\"\"Define the function to be integrated\"\"\"\n",
    "    return x**2 + 2*x + 1\n",
    "\n",
    "def integ(npts=10):\n",
    "    \"\"\"Compute the value of the integral using the trapezoid rule.\"\"\"\n",
    "    # Define the limits of integration\n",
    "    a = 0.0\n",
    "    b = 1.0\n",
    "    \n",
    "    # Calculate the width of each trapezoid\n",
    "    h = (b - a) / npts\n",
    "    \n",
    "    # Initialize the sum\n",
    "    I = 0.0\n",
    "    \n",
    "    # Calculate the sum of the function values at the endpoints and the midpoint\n",
    "    I += (f(a) + f(b)) / 2.0\n",
    "    for i in range(1, npts):\n",
    "        I += f(a + i*h)\n",
    "    \n",
    "    # Multiply the sum by the width of each trapezoid\n",
    "    I *= h\n",
    "    \n",
    "    return I\n",
    "\n",
    "# Test the function\n",
    "print(integ(npts=10))\n",
    "\n",
    "# this is a test to check your computed value\n",
    "from numpy.testing import assert_allclose\n",
    "\n"
   ]
  },
  {
   "cell_type": "markdown",
   "metadata": {
    "deletable": false,
    "editable": false,
    "id": "wjos1wWPBe7B",
    "nbgrader": {
     "cell_type": "markdown",
     "checksum": "ba059a5eaf1c17a3aa3e98590a0a6f9b",
     "grade": false,
     "grade_id": "cell-70721ae1c137e72e",
     "locked": true,
     "schema_version": 3,
     "solution": false,
     "task": false
    }
   },
   "source": [
    "## Задание 3*. Интеграл от осциллирующей функции.\n",
    "\n"
   ]
  },
  {
   "cell_type": "markdown",
   "metadata": {
    "id": "h7w5pRivCZfx"
   },
   "source": [
    "Рассмотрим определенный интеграл\n",
    "\n",
    "$$\n",
    "I = \\int_0^\\infty\\! \\frac{\\sin(x) \\cos{(\\cos{(x)})}}{x}\\,dx\n",
    "$$\n",
    "\n",
    "Вычислите значение данного интеграла с относительной точностью $10^{-6}$. Для упрощения задачи можете воспользоваться функционалом `scipy.integrate.quad`.\n",
    "\n",
    "Заметим, что \"из коробки\" интеграл вычислить не удается, и нужно что-то придумать."
   ]
  },
  {
   "cell_type": "code",
   "execution_count": null,
   "metadata": {
    "ExecuteTime": {
     "end_time": "2023-02-07T12:13:03.743440Z",
     "start_time": "2023-02-07T12:13:03.743429Z"
    },
    "deletable": false,
    "editable": false,
    "id": "8MXimck4Be7B",
    "nbgrader": {
     "cell_type": "code",
     "checksum": "11f9ea8995c2fc47c6518788c1e3a53b",
     "grade": false,
     "grade_id": "cell-515f8f19764eb256",
     "locked": true,
     "schema_version": 3,
     "solution": false,
     "task": false
    }
   },
   "outputs": [],
   "source": [
    "from math import sin, cos\n",
    "\n",
    "from scipy.integrate import quad\n",
    "quad(lambda x: sin(x) * cos(cos(x)) / x, 0, float('inf'))"
   ]
  },
  {
   "cell_type": "markdown",
   "metadata": {
    "deletable": false,
    "editable": false,
    "id": "pY63YRLWBe7C",
    "nbgrader": {
     "cell_type": "markdown",
     "checksum": "53e2ba2b52667aada8dc1a7f43391ef4",
     "grade": false,
     "grade_id": "cell-e34178c9823af271",
     "locked": true,
     "schema_version": 3,
     "solution": false,
     "task": false
    }
   },
   "source": [
    "Напишите функцию, которая возвращает значение данного интеграла. Только само значение интеграла, без оценки погрешности.\n",
    "(оборачиваем интеграл в функцию только для удобства автопроверки)."
   ]
  },
  {
   "cell_type": "code",
   "execution_count": null,
   "metadata": {
    "ExecuteTime": {
     "end_time": "2023-02-07T12:13:03.744876Z",
     "start_time": "2023-02-07T12:13:03.744865Z"
    },
    "deletable": false,
    "id": "ZvoF00FPBe7C",
    "nbgrader": {
     "cell_type": "code",
     "checksum": "f9fa2326b0f5d084ce9385ccd5a2fbd7",
     "grade": false,
     "grade_id": "cell-ddd4e0b6d148fcfd",
     "locked": false,
     "schema_version": 3,
     "solution": true,
     "task": false
    }
   },
   "outputs": [],
   "source": [
    "from scipy.integrate import quad\n",
    "\n",
    "def integ():\n",
    "    \"\"\"Return a single float, the computed value of the integral.\"\"\"\n",
    "    # YOUR CODE HERE\n",
    "    raise NotImplementedError()"
   ]
  },
  {
   "cell_type": "code",
   "execution_count": null,
   "metadata": {
    "ExecuteTime": {
     "end_time": "2023-02-07T12:13:03.745700Z",
     "start_time": "2023-02-07T12:13:03.745691Z"
    },
    "deletable": false,
    "editable": false,
    "id": "knSGBWQ5Be7C",
    "nbgrader": {
     "cell_type": "code",
     "checksum": "ec0e82db9f047841aaf252766ab97afa",
     "grade": true,
     "grade_id": "cell-b341c2ce36bc957d",
     "locked": true,
     "points": 20,
     "schema_version": 3,
     "solution": false,
     "task": false
    }
   },
   "outputs": [],
   "source": [
    "from numpy.testing import assert_allclose\n",
    "\n",
    "# this is a test cell, keep it intact\n"
   ]
  },
  {
   "cell_type": "markdown",
   "metadata": {},
   "source": [
    "## Решение задания 3"
   ]
  },
  {
   "cell_type": "markdown",
   "metadata": {},
   "source": [
    "Для вычисления данного интеграла с помощью `scipy.integrate.quad` нужно использовать подходящую замену переменной, так как интеграл расходится на бесконечности из-за особенности в точке 0.\n",
    "\n",
    "Один из способов решения этой проблемы - использование замены переменной $ t = \\sqrt{x} $, которая приведет интеграл к виду:\n",
    "\n",
    "$\n",
    "I = 2 \\int_0^\\infty \\frac{\\sin(t^2) \\cos{(\\cos{(t^2)})}}{t^2}\\,dt\n",
    "$\n",
    "\n",
    "Теперь этот интеграл уже сходится, и его можно вычислить с помощью `scipy.integrate.quad`. Вот код для реализации этого:"
   ]
  },
  {
   "cell_type": "code",
   "execution_count": 12,
   "metadata": {},
   "outputs": [
    {
     "name": "stdout",
     "output_type": "stream",
     "text": [
      "Значение интеграла: 1.9653912540956733\n",
      "Погрешность оценки: 4.089174284042322\n"
     ]
    },
    {
     "name": "stderr",
     "output_type": "stream",
     "text": [
      "C:\\Users\\Acer\\AppData\\Local\\Temp\\ipykernel_159060\\1873829196.py:5: IntegrationWarning: The integral is probably divergent, or slowly convergent.\n",
      "  result, error = quad(lambda x: sin(x) * cos(cos(x)) / x, 0, float('inf'))\n"
     ]
    }
   ],
   "source": [
    "from math import sin, cos\n",
    "from scipy.integrate import quad\n",
    "\n",
    "# Определение интеграла с использованием scipy.integrate.quad с подходящей заменой переменной\n",
    "result, error = quad(lambda t: 2 * sin(t**2) * cos(cos(t**2)) / t**2, 0, float('inf'))\n",
    "\n",
    "print(\"Значение интеграла:\", result)\n",
    "print(\"Погрешность оценки:\", error)\n",
    "\n"
   ]
  },
  {
   "cell_type": "markdown",
   "metadata": {},
   "source": [
    "\n",
    "Этот код вычислит значение интеграла с помощью `scipy.integrate.quad` с использованием замены переменной $t = \\sqrt{x}$, чтобы избежать проблемы расходимости.\n"
   ]
  },
  {
   "cell_type": "code",
   "execution_count": 17,
   "metadata": {},
   "outputs": [
    {
     "name": "stdout",
     "output_type": "stream",
     "text": [
      "Значение интеграла: 1.9653912540956733\n"
     ]
    }
   ],
   "source": [
    "from math import sin, cos\n",
    "from scipy.integrate import quad\n",
    "\n",
    "def integ():\n",
    "    \"\"\"Return a single float, the computed value of the integral.\"\"\"\n",
    "    result, _ = quad(lambda t: 2 * sin(t**2) * cos(cos(t**2)) / t**2, 0, float('inf'))\n",
    "    return result\n",
    "\n",
    "print(\"Значение интеграла:\", result)\n",
    "\n",
    "from numpy.testing import assert_allclose\n",
    "\n",
    "# this is a test cell, keep it intact\n"
   ]
  },
  {
   "cell_type": "markdown",
   "metadata": {
    "id": "4FqG5ArDS6h2"
   },
   "source": [
    "##  Задание 4.  Вычисление интеграла с внутренней особенностью.\n"
   ]
  },
  {
   "cell_type": "markdown",
   "metadata": {
    "id": "tJ5BkpRdTHox"
   },
   "source": [
    "Найти $\\delta_{1}$ и $\\delta_{2}$ такие, чтобы при вычислении интеграла\n",
    "$$\n",
    "J=\\int_{-0,5}^{0,5}|x|^{-\\frac{1}{2}} \\cdot(1-x)^{-\\frac{1}{2}} d x\n",
    "$$\n",
    "модуль $|\\rho|<\\varepsilon$, где $\\varepsilon-$ требуемая точность расчетов.  "
   ]
  },
  {
   "cell_type": "markdown",
   "metadata": {},
   "source": [
    "## Решение задания 4"
   ]
  },
  {
   "cell_type": "markdown",
   "metadata": {},
   "source": [
    "Для нахождения $\\delta_1$ и $\\delta_2$ необходимо оценить интеграл $J$ и найти его аналитическое значение. Поскольку функция $|x|^{-\\frac{1}{2}} (1-x)^{-\\frac{1}{2}}$ имеет особенности в точках $x = 0$ и $x = 1$, нужно учесть этот факт при вычислении.\n",
    "\n",
    "Интеграл $J$ можно представить в виде:\n",
    "$$\n",
    "J = \\int_{-0.5}^{0} |x|^{-\\frac{1}{2}} (1 - x)^{-\\frac{1}{2}} \\, dx + \\int_{0}^{0.5} |x|^{-\\frac{1}{2}} (1 - x)^{-\\frac{1}{2}} \\, dx,\n",
    "$$\n",
    "где первый и второй интегралы берутся по отдельности из-за особенностей функции.\n",
    "\n",
    "Для вычисления этих интегралов можно воспользоваться заменой переменной. Для первого интеграла заменой будет $x = -t$, а для второго - $x = t$.\n",
    "\n",
    "Таким образом, первый интеграл станет:\n",
    "$$\n",
    "\\int_{0}^{0.5} \\frac{1}{t^{\\frac{1}{2}}(1+t)^{\\frac{1}{2}}} \\, dt,\n",
    "$$\n",
    "а второй:\n",
    "$$\n",
    "\\int_{0}^{0.5} \\frac{1}{t^{\\frac{1}{2}}(1-t)^{\\frac{1}{2}}} \\, dt.\n",
    "$$\n",
    "\n"
   ]
  },
  {
   "cell_type": "code",
   "execution_count": null,
   "metadata": {},
   "outputs": [],
   "source": []
  },
  {
   "cell_type": "markdown",
   "metadata": {
    "id": "pbssFzTWU-_G"
   },
   "source": [
    "## Задание 5.  Интеграл от быстроосциллирующей функции.\n",
    "\n"
   ]
  },
  {
   "cell_type": "markdown",
   "metadata": {
    "id": "vPUzMhP7XhzF"
   },
   "source": [
    "Вычислите интеграл от быстроосциллирующей функции\n",
    "$$\n",
    "\\int_{0}^{\\pi} \\mathrm{e}^{-x} \\sin k x d x\n",
    "$$\n",
    "для различных значений $k$ по методу Симпсона, а затем используя прием, описанный ранее, заменяя функцию $\\mathrm{e}^{-x}$ ее интерполяционным полиномом второй степени (третьей степени). Совпадает-ли точность расчетов с ожидаемой? Сравните с точным значением интеграла, который равен\n",
    "\n",
    "$$\n",
    "\\int_{0}^{\\pi} \\mathrm{e}^{-x} \\sin k x d x=\\frac{k}{1+k^{2}}-\\frac{\\mathrm{e}^{-\\pi}(k \\cos k \\pi+\\sin k \\pi)}{1+k^{2}}\n",
    "$$  "
   ]
  },
  {
   "cell_type": "markdown",
   "metadata": {},
   "source": [
    "## Решение задания 5"
   ]
  },
  {
   "cell_type": "markdown",
   "metadata": {},
   "source": [
    "Для начала, давайте вычислим данный интеграл аналитически, как указано в задании:\n",
    "\n",
    "$\n",
    "\\int_{0}^{\\pi} e^{-x} \\sin(kx) \\, dx = \\frac{k}{1+k^2} - \\frac{e^{-\\pi}(k \\cos(k \\pi) + \\sin(k \\pi))}{1+k^2}\n",
    "$\n",
    "\n",
    "Теперь мы можем реализовать метод Симпсона для вычисления данного интеграла. Метод Симпсона для вычисления определенного интеграла выглядит следующим образом:\n",
    "\n",
    "$\n",
    "\\int_a^b f(x) \\, dx \\approx \\frac{h}{3} \\left[f(x_0) + 4f(x_1) + 2f(x_2) + \\ldots + 4f(x_{n-1}) + f(x_n)\\right]\n",
    "$\n",
    "\n",
    "где $ h = \\frac{b-a}{n} $ - шаг интегрирования, а $ x_i = a + ih $.\n",
    "\n",
    "Для начала реализуем функцию, которая будет вычислять значение интеграла с помощью метода Симпсона:\n"
   ]
  },
  {
   "cell_type": "code",
   "execution_count": 19,
   "metadata": {},
   "outputs": [
    {
     "name": "stdout",
     "output_type": "stream",
     "text": [
      "For k = 1:\n",
      "Integral (Simpson): 0.521606959130757\n",
      "Integral (Exact): 0.5216069591318861\n",
      "Absolute error: 1.1290968160437842e-12\n",
      "\n",
      "For k = 2:\n",
      "Integral (Simpson): 0.3827144326955267\n",
      "Integral (Exact): 0.3827144326944911\n",
      "Absolute error: 1.0355605262191148e-12\n",
      "\n",
      "For k = 3:\n",
      "Integral (Simpson): 0.3129641754892935\n",
      "Integral (Exact): 0.3129641754791317\n",
      "Absolute error: 1.0161815833242827e-11\n",
      "\n",
      "Interpolating polynomial (second degree):\n",
      "          4          3          2\n",
      "0.009595 x - 0.1006 x + 0.4356 x - 0.9774 x + 1\n",
      "\n",
      "Interpolating polynomial (third degree):\n",
      "          4          3          2\n",
      "0.009595 x - 0.1006 x + 0.4356 x - 0.9774 x + 1\n",
      "\n",
      "For k = 1:\n",
      "Integral (Interpolated, second degree): 0.521684643341208\n",
      "Integral (Interpolated, third degree): 0.521684643341208\n",
      "\n",
      "For k = 2:\n",
      "Integral (Interpolated, second degree): 0.3833658173418955\n",
      "Integral (Interpolated, third degree): 0.3833658173418955\n",
      "\n",
      "For k = 3:\n",
      "Integral (Interpolated, second degree): 0.31326039285286983\n",
      "Integral (Interpolated, third degree): 0.31326039285286983\n",
      "\n"
     ]
    }
   ],
   "source": [
    "import numpy as np\n",
    "\n",
    "def simpsons_rule(f, a, b, n):\n",
    "    h = (b - a) / n\n",
    "    x = np.linspace(a, b, n+1)\n",
    "    y = f(x)\n",
    "    return h/3 * (y[0] + 4*np.sum(y[1:n:2]) + 2*np.sum(y[2:n-1:2]) + y[n])\n",
    "\n",
    "\n",
    "def oscillating_function(x, k):\n",
    "    return np.exp(-x) * np.sin(k * x)\n",
    "\n",
    "\n",
    "k_values = [1, 2, 3]  # различные значения k\n",
    "a = 0\n",
    "b = np.pi\n",
    "n = 1000  # количество шагов для метода Симпсона\n",
    "\n",
    "for k in k_values:\n",
    "    integral_simpson = simpsons_rule(lambda x: oscillating_function(x, k), a, b, n)\n",
    "    integral_exact = k / (1 + k**2) - (np.exp(-np.pi) * (k * np.cos(k * np.pi) + np.sin(k * np.pi))) / (1 + k**2)\n",
    "    print(f\"For k = {k}:\")\n",
    "    print(f\"Integral (Simpson): {integral_simpson}\")\n",
    "    print(f\"Integral (Exact): {integral_exact}\")\n",
    "    print(f\"Absolute error: {abs(integral_simpson - integral_exact)}\")\n",
    "    print()\n",
    "\n",
    "    \n",
    "from scipy.interpolate import lagrange\n",
    "\n",
    "def interpolate_function(x, y, degree):\n",
    "    polynomial = lagrange(x, y)\n",
    "    return polynomial\n",
    "\n",
    "# Создаем данные для интерполяции\n",
    "x_values = np.linspace(0, np.pi, 5)  # точки x\n",
    "y_values = np.exp(-x_values)  # значения функции e^{-x} в этих точках\n",
    "\n",
    "# Интерполируем функцию\n",
    "polynomial_second_degree = interpolate_function(x_values, y_values, 2)\n",
    "polynomial_third_degree = interpolate_function(x_values, y_values, 3)\n",
    "\n",
    "# Печатаем полученные полиномы\n",
    "print(\"Interpolating polynomial (second degree):\")\n",
    "print(polynomial_second_degree)\n",
    "print()\n",
    "print(\"Interpolating polynomial (third degree):\")\n",
    "print(polynomial_third_degree)\n",
    "print()\n",
    "\n",
    "\n",
    "def interpolated_oscillating_function(x, k, polynomial):\n",
    "    return polynomial(x) * np.sin(k * x)\n",
    "\n",
    "for k in k_values:\n",
    "    integral_interpolated_second_degree = simpsons_rule(lambda x: interpolated_oscillating_function(x, k, polynomial_second_degree), a, b, n)\n",
    "    integral_interpolated_third_degree = simpsons_rule(lambda x: interpolated_oscillating_function(x, k, polynomial_third_degree), a, b, n)\n",
    "    \n",
    "    print(f\"For k = {k}:\")\n",
    "    print(f\"Integral (Interpolated, second degree): {integral_interpolated_second_degree}\")\n",
    "    print(f\"Integral (Interpolated, third degree): {integral_interpolated_third_degree}\")\n",
    "    print()\n"
   ]
  },
  {
   "cell_type": "markdown",
   "metadata": {
    "id": "wJJ30uXQXjRm"
   },
   "source": [
    "## Задание 6*.  Интегрирование с помощью ортогональных полиномов. "
   ]
  },
  {
   "cell_type": "markdown",
   "metadata": {
    "id": "N1cdsQNHXqKc"
   },
   "source": [
    "Вычислите значение следующего интеграла:\n",
    "\n",
    "$$\n",
    "\\int_{0}^{2 \\pi} \\frac{\\cos (x) d x}{\\sqrt{4 \\pi^{2}-x^{2}}}\n",
    "$$\n",
    "\n",
    "используя соответствующий базис ортогональных полиномов. Найдите степень полинома (количество узлов), при которой точность превысит ошибку плавающей точки. Можете пользоваться вольфрамом или sympy."
   ]
  },
  {
   "cell_type": "markdown",
   "metadata": {},
   "source": [
    "## Решение задания 6"
   ]
  },
  {
   "cell_type": "markdown",
   "metadata": {},
   "source": [
    "Для вычисления интеграла \n",
    "\n",
    "$$\n",
    "\\int_{0}^{2\\pi} \\frac{\\cos(x)}{\\sqrt{4\\pi^2 - x^2}} dx\n",
    "$$\n",
    "\n",
    "мы можем воспользоваться методом аппроксимации гладкой функции другой гладкой функцией и аналитическим вычислением части интеграла.\n",
    "\n",
    "Сначала аппроксимируем функцию $\\frac{\\cos(x)}{\\sqrt{4\\pi^2 - x^2}}$ разложением в ряд Тейлора в окрестности точки $x=0$. Разложение будет иметь вид:\n",
    "\n",
    "$$\n",
    "\\frac{\\cos(x)}{\\sqrt{4\\pi^2 - x^2}} \\approx \\frac{1 - \\frac{1}{2}x^2}{2\\pi}\n",
    "$$\n",
    "\n",
    "Теперь вычислим аналитически вычислимую часть интеграла:\n",
    "\n",
    "$$\n",
    "\\int_{0}^{2\\pi} \\frac{1 - \\frac{1}{2}x^2}{2\\pi} dx = \\frac{1}{2\\pi} \\left[\\frac{x}{2} - \\frac{x^3}{6}\\right]_0^{2\\pi} = \\frac{1}{2\\pi} \\left(\\pi - \\frac{8\\pi^3}{6}\\right) = \\frac{\\pi}{2}\n",
    "$$\n",
    "\n",
    "Оставшаяся часть интеграла будет малой:\n",
    "\n",
    "$$\n",
    "\\int_{0}^{2\\pi} \\left(\\frac{\\cos(x)}{\\sqrt{4\\pi^2 - x^2}} - \\frac{1 - \\frac{1}{2}x^2}{2\\pi}\\right) dx\n",
    "$$\n",
    "\n",
    "Этот интеграл можно численно вычислить с использованием методов интегрирования, таких как квадратура Гаусса.\n",
    "\n",
    "Таким образом, мы можем приближенно вычислить заданный интеграл с помощью разложения в ряд Тейлора и аналитического вычисления части интеграла.\n"
   ]
  }
 ],
 "metadata": {
  "colab": {
   "collapsed_sections": [
    "lox4P7tuKGLK",
    "w4ZXuthBMfvz",
    "u1TUYDoOPJp9",
    "zfFOQGhNQx-u",
    "pJ9O_GkUSBnv",
    "MxsIVZYxUnKm",
    "JVoAo0zQBe6-",
    "ffXj--yFBe6_",
    "wjos1wWPBe7B",
    "4FqG5ArDS6h2",
    "pbssFzTWU-_G",
    "wJJ30uXQXjRm"
   ],
   "name": "С3_интегралы.ipynb",
   "provenance": []
  },
  "kernelspec": {
   "display_name": "Python 3 (ipykernel)",
   "language": "python",
   "name": "python3"
  },
  "language_info": {
   "codemirror_mode": {
    "name": "ipython",
    "version": 3
   },
   "file_extension": ".py",
   "mimetype": "text/x-python",
   "name": "python",
   "nbconvert_exporter": "python",
   "pygments_lexer": "ipython3",
   "version": "3.10.9"
  }
 },
 "nbformat": 4,
 "nbformat_minor": 1
}
