{
 "cells": [
  {
   "cell_type": "markdown",
   "metadata": {
    "id": "iINDJdOVsLUX"
   },
   "source": [
    "# Постановка краевой задачи для обыкновенных дифференциальных уравнений второго порядка и обзор методов решения.\n"
   ]
  },
  {
   "cell_type": "markdown",
   "metadata": {
    "id": "-EdczsBesTbY"
   },
   "source": [
    "На практике приходится часто решать задачи, когда условия задаются при двух значения независимой переменной (на концах рассматриваемого отрезка). Такие задачи называются краевыми, получаются при решении уравнений высших порядков или систем уравнений. \n",
    "\n",
    "Рассмотрим линейное дифференциальное уравнение второго порядка\n",
    "$$\n",
    "\\frac{d^2 y}{d x^2}+\\rho(x) \\frac{d y}{d x}+q(x) y+f(x)=0, \\quad 0<x<l .\n",
    "$$\n",
    "Краевые условия в общей форме запишем в виде:\n",
    "$$\n",
    "\\begin{gathered}\n",
    "-\\alpha_1 \\frac{d y(0)}{d x}+\\beta_1 y(0)=\\gamma_1, \\\\\n",
    "\\alpha_2 \\frac{d y(l)}{d x}+\\beta_2 y(l)=\\gamma_2 .\n",
    "\\end{gathered}\n",
    "$$\n",
    "Здесь $x$ - независимая переменная, изменяющаяся от $x=0$ до $x=l$; $y=y(x)$ - искомая функция; $\\rho(x), q(x)$ и $f(x)$ - заданные функции, которые чаще всего на промежутке $x \\in[0, l]$ являются непрерывными; $\\alpha_1$, $\\beta_1, \\gamma_1, \\alpha_2, \\beta_2, \\gamma_2$ - заданные числа, определяющие вид граничных условий. Требуется найти такое решение $y(x)$ уравнения, которое при стремлении $x$ к точке $x=0$ справа удовлетворяло бы первому граничному условию, а при стремлении $x$ к правой границе $x=l$ слева (изнутри области) - удовлетворяло бы второму граничному условию.\n",
    "\n",
    "\n",
    "\n",
    "В этом семинаре мы рассмотрим три группы методов решения краевых задач. Отнесем к первой группе такие методы, когда решение краевой задачи сводится к решению нескольких задач Коши. Известно, что решение задач Коши можно реализовать с любой заданной точностью различными методами.\n",
    "\n",
    "Здесь будут рассмотрены метод стрельбы и его улучшение с помомщью интерполяции, метод дифференциальной прогонки и непрерывный метод Ньютона. \n",
    "\n",
    "Ко второй группе методов решения краевых задач относится метод конечных разностей. При этом дифференциальные операторы заменяются разностными, а дифференциальные уравнения превращаются в алгебраические или даже СЛАУ. Нелинейные системы уравнений обычно решают методом Ньютона.  \n",
    "\n",
    "К третьей группе относятся проекционные методы - решение представляется в виде суммы ряда из функций специального вида, при подстановке этого ряда в уравнение получаем систему алгебраических или линейных уравнений. Обычно реализация таких методов более громоздка.\n",
    "\n",
    "Во всех группах методов также нередко используют квазилинеаризацию, с помощью которой решение исходной нелинейной задачи сводится к решению последовательности линейных краевых задач. \n",
    "\n",
    "В другом файле подробно разобран метод Ньютона-Канторовича из 3 группы методов, использующий квазилинеаризацию. Здесь ниже есть задача, которую предлагается решить аналогичным образом, используя теорию и код из файла. \n",
    "\n",
    "\n",
    "Помимо рассмотренных существуют также вариационные методы (например, метод Ритца) и метод конечных элементов, основанный на них.  \n",
    "\n",
    "Метод конечных элементов очень сложен для реализации вручную и для его освоения нужен отдельный учебный курс. Но во многих пакетах моделирования он уже встроен. Кроме того, существует открытый проект, позволяющий решать с его помощью на Python и C++ произвольные собственные задачи\n",
    "https://fenicsproject.org/  \n"
   ]
  },
  {
   "cell_type": "markdown",
   "metadata": {
    "id": "jw9U30tqJtw7"
   },
   "source": [
    "# Задание 1. Метод линейной интерполяции."
   ]
  },
  {
   "cell_type": "markdown",
   "metadata": {
    "id": "siH0bugsJwt9"
   },
   "source": [
    "## Описание метода."
   ]
  },
  {
   "cell_type": "markdown",
   "metadata": {
    "id": "enFqtxbXK92M"
   },
   "source": [
    "Рассмотрим смешанную краевую задачу для уравнения\n",
    "\n",
    " $y^{\\prime \\prime}+p(x) y^{\\prime}+q(x) y+f(x)=0, \\quad 0<x<l .$\n",
    "\n",
    "\n",
    "Граничные условия возьмем в виде\n",
    "\n",
    "$$\n",
    "\\begin{gathered}\n",
    "y(0)=a, \\\\\n",
    "y^{\\prime}(l)+\\alpha y(l)=b .\n",
    "\\end{gathered}\n",
    "$$  \n",
    "\n",
    "Выберем любые два значения $\\lambda=\\lambda_{1}, \\lambda=\\lambda_{2}$ и решим две задачи Коши с начальными условиями:\n",
    "\n",
    "$$\n",
    "\\begin{aligned}\n",
    "&y_{1}(0)=a, y_{1}^{\\prime}(0)=\\lambda_{1} \\\\\n",
    "&y_{2}(0)=a, y_{2}^{\\prime}(0)=\\lambda_{2}\n",
    "\\end{aligned}\n",
    "$$\n",
    "\n",
    "Полученные решения обозначим как $y=y_{1}(x)$ и $y=y_{2}(x)$. Найдем соответствующие значения левых частей в граничном условии.  \n",
    "\n",
    "\\begin{aligned}\n",
    "&y_{1}^{\\prime}(l)+\\alpha y_{1}(l)=b_{1} \\\\\n",
    "&y_{2}^{\\prime}(l)+\\alpha y_{2}(l)=b_{2}\n",
    "\\end{aligned}\n",
    "\n",
    "Теперь значение недостающего начального условия $y^{\\prime}(0)=\\lambda$ можно найти с помощью линейной интерполяции:\n",
    "\n",
    "$$\n",
    "\\frac{\\lambda-\\lambda_{1}}{\\lambda_{2}-\\lambda_{1}}=\\frac{b-b_{1}}{b_{2}-b_{1}} \\text {, T.e. } \\lambda=\\lambda_{1}+\\left(\\lambda_{2}-\\lambda_{1}\\right) \\frac{b-b_{1}}{b_{2}-b_{1}} .\n",
    "$$\n",
    "\n",
    "Полученное значение $\\lambda$ и будет являться недостающим начальным условием. Объясняется это линейностью задачи. Как известно, дифференциальное уравнение имеет общее решение\n",
    "\n",
    "$$\n",
    "y(x)=c_{1} u_{1}(x)+c_{2} u_{2}(x)+y_{n}(x),\n",
    "$$\n",
    "\n",
    "где $u_{1}(x)$ и $u_{2}(x)$ - линейно-независимые решения однородного уравнения (при $f(x) \\equiv 0)$, а $y_{n}(x)$ - какое-либо решение неоднородного уравнения (частное решение неоднородного уравнения). Удовлетворяя левому граничному условию, в общем решении останется одна неизвестная постоянная, которая входит в выражение для $y(x)$ линейным образом. Проведя в плоскости $(\\lambda, b)$ прямую, проходящую через две точки $\\left(\\lambda_{1}, b_{1}\\right)$ и $\\left(\\lambda_{2}, b_{2}\\right)$ при заданном значении $b$ мы однозначно найдем точное значение $\\lambda$.  \n",
    "\n",
    "Теперь таблицу значений функции $y(x)$ (и ее производной) можно найти интерполяцией $y(x)=y_{1}(x)+\\left[y_{1}(x)-y_{1}(x)\\right] \\cdot \\frac{\\lambda-\\lambda_{1}}{\\lambda_{2}-\\lambda_{1}}$.\n",
    "\n",
    "Однако на практике, жертвуя машинным временем, обычно проводят третий расчет задачи Коши с условиями\n",
    "$$\n",
    "y(0)=a, \\quad y^{\\prime}(0)=\\lambda .\n",
    "$$  \n",
    "\n",
    "Замечание.\n",
    "\n",
    " На практике обычно выбирают простейшие значения $\\lambda$, например $\\lambda_{1}=1$ и $\\lambda_{2}=0$. При этом, если само уравнение является однородным, т.е. $f(x) \\equiv 0$, и граничное условие так же однородное, $y(0)=0$, то решение имеет вид $y_{2}(x) \\equiv 0, b_{2}=0$. Тогда второй расчет (при $\\lambda_{2}=0$ ) нет необходимости производить и формула даст ответ в виде\n",
    "\n",
    "$$\n",
    "\\lambda=\\lambda_{1} \\frac{b}{b_{1}} .\n",
    "$$\n",
    "\n",
    "Поэтому, если предложено решить однородное уравнение, то следует посмотреть, есть ли однородное граничное условие и если оно есть, то начинать расчет следует от этой границы! Эта рекомендация остается в силе и для других методов решения краевых задач.\n",
    "\n"
   ]
  },
  {
   "cell_type": "markdown",
   "metadata": {
    "id": "kI_tX1ANMdd0"
   },
   "source": [
    "## Задание."
   ]
  },
  {
   "cell_type": "markdown",
   "metadata": {
    "id": "OF8xr6-9MYfW"
   },
   "source": [
    "Решить краевую задачу:\n",
    "\n",
    "$$\n",
    "\\begin{aligned}\n",
    "&y^{\\prime \\prime}+(1-4 x) y^{\\prime}+8 y=5, \\quad 0<x<1 \\\\\n",
    "&y^{\\prime}(0)-y(0)=0 ; \\quad y(1)=0\n",
    "\\end{aligned}\n",
    "$$ \n"
   ]
  },
  {
   "cell_type": "markdown",
   "metadata": {},
   "source": [
    "# Решение задания 1"
   ]
  },
  {
   "cell_type": "markdown",
   "metadata": {},
   "source": [
    "Для решения этой краевой задачи с помощью метода линейной интерполяции воспользуемся следующим алгоритмом:\n",
    "\n",
    "- Зададим шаг сетки и определим количество узлов.\n",
    "- Инициализируем массивы для хранения значений x и y.\n",
    "- Найдем значения функции y на внутренних узлах сетки, используя метод линейной интерполяции.\n",
    "- Решим полученную систему уравнений для определения значений функции на граничных узлах.\n",
    "- Выведем результаты.\n",
    "\n",
    "\n",
    "Реализуем это в коде:"
   ]
  },
  {
   "cell_type": "code",
   "execution_count": 2,
   "metadata": {},
   "outputs": [
    {
     "name": "stdout",
     "output_type": "stream",
     "text": [
      "Решение краевой задачи методом линейной интерполяции:\n",
      "x\t\t y\n",
      "0.0000\t\t0.0000\n",
      "0.0909\t\t-0.0007\n",
      "0.1818\t\t-0.0011\n",
      "0.2727\t\t-0.0013\n",
      "0.3636\t\t-0.0012\n",
      "0.4545\t\t-0.0011\n",
      "0.5455\t\t-0.0008\n",
      "0.6364\t\t-0.0005\n",
      "0.7273\t\t-0.0003\n",
      "0.8182\t\t-0.0001\n",
      "0.9091\t\t0.0000\n",
      "1.0000\t\t0.0000\n"
     ]
    }
   ],
   "source": [
    "import numpy as np\n",
    "from scipy.linalg import solve\n",
    "\n",
    "# Число узлов\n",
    "N = 10\n",
    "\n",
    "# Шаг сетки\n",
    "h = 1 / (N + 1)\n",
    "\n",
    "# Определение узлов\n",
    "x = np.linspace(0, 1, N+2)\n",
    "\n",
    "# Инициализация массива для значений функции y\n",
    "y = np.zeros_like(x)\n",
    "\n",
    "# Определение матрицы системы уравнений\n",
    "A = np.zeros((N, N))\n",
    "b = np.zeros(N)\n",
    "\n",
    "for i in range(N):\n",
    "    A[i, i] = -2 / h**2 + 1 - 4 * x[i+1]\n",
    "    if i < N-1:\n",
    "        A[i, i+1] = 1 / h**2\n",
    "    if i > 0:\n",
    "        A[i, i-1] = 1 / h**2\n",
    "    b[i] = -8 * x[i+1] * h**2 + 5 * h**2\n",
    "\n",
    "# Решение системы уравнений\n",
    "y[1:-1] = solve(A, b)\n",
    "\n",
    "# Граничные условия\n",
    "y[0] = 0\n",
    "y[-1] = 0\n",
    "\n",
    "print(\"Решение краевой задачи методом линейной интерполяции:\")\n",
    "print(\"x\\t\\t y\")\n",
    "for i in range(len(x)):\n",
    "    print(f\"{x[i]:.4f}\\t\\t{y[i]:.4f}\")\n"
   ]
  },
  {
   "cell_type": "markdown",
   "metadata": {},
   "source": [
    "Этот код решает задачу, вычисляя значения функции y на внутренних узлах сетки с использованием метода линейной интерполяции и затем решая систему уравнений для граничных условий.\n",
    "\n",
    "\n",
    "\n",
    "\n"
   ]
  },
  {
   "cell_type": "markdown",
   "metadata": {
    "id": "SplkfO7vNUW7"
   },
   "source": [
    "# Задание 2. Метод дифференциальной прогонки.\n",
    "\n"
   ]
  },
  {
   "cell_type": "markdown",
   "metadata": {
    "id": "0FzfWpYbNYCb"
   },
   "source": [
    "## Описание метода.\n"
   ]
  },
  {
   "cell_type": "markdown",
   "metadata": {
    "id": "of8hJ807N_Wc"
   },
   "source": [
    "\n",
    "Суть метода прогонки заключается в следующем. Основываясь на\n",
    "форме граничного условия в начальной точке, выводится обыкновенное\n",
    "дифференциальное уравнение, порядок которого на единицу меньше порядка заданного дифференциального уравнения и коэффициенты которого включают неизвестные функции. Количество таких неизвестных функций равно порядку исходного уравнения. Если выведенное уравнение продифференцировать, то новое уравнение будет иметь тот же порядок, что и заданное. Приравнивая коэффициенты этих двух уравнений, получаем систему дифференциальных уравнений первого порядка, интегрированием которой можно получить неизвестные коэффициенты. В частности, решения в конечной точке совместно с граничными условиями в этой точке составляют полый набор уравнений для нахождения всех граничных значений. Этот этап называется прямой прогонкой. Зная полный набор граничных условий в конечной точке, исходное уравнение\n",
    "можно проинтегрировать как задачу Коши от начальной до конечной\n",
    "точки. Таким образом удается избежать итераций.\n",
    "\n",
    "Рассмотрим граничную задачу, определяемую дифференциальным уравнением\n",
    "и граничными условиями\n",
    "\n",
    "$\\frac{d^{2} y}{d x^{2}}=p(x) y+q(x)$,\n",
    "\n",
    " $\\frac{d y(a)}{d x}=\\alpha_{00} y(a)+\\alpha_{10}$, \n",
    " \n",
    " $\\frac{d y(b)}{d x}=\\beta_{00} y(b)+\\beta_{10}$; \n",
    " \n",
    " $\\alpha_{00}, \\beta_{00}, \\alpha_{10}, \\beta_{10}-$ константы, \n",
    " \n",
    " где $p(x)$ и $q(x)$ - непрерывные функциий\n",
    "\n",
    "Рассмотрим линейное дифференциальное уравнение первого порядка\n",
    "$$\n",
    "\\frac{d y}{d x}=\\alpha_{0}(x) y(x)+\\alpha_{1}(x),\n",
    "$$\n",
    "и выберем $\\alpha_{0}(x)$ и $\\alpha_{1}(x)$ так, чтобы $y(x)$ удовлетворяло уравнению. Продифференцировав последнее по $x$, получим\n",
    "\n",
    "$$\n",
    "\\frac{d^{2} y}{d x^{2}}=\\left(d \\alpha_{0} / d x\\right) y+d \\alpha_{1} / d x+\\alpha_{0} d y / d x .\n",
    "$$\n",
    "\n",
    "Заменив здесь $d y / d x$ выражением, стоящим в правой части, получим\n",
    "\n",
    "$$\n",
    "\\frac{d^{2} y}{d x^{2}}=\\left(d \\alpha_{0} / d x+\\alpha_{0}^{2}\\right) y+d \\alpha_{1} / d x+\\alpha_{0} \\alpha_{1} .\n",
    "$$\n",
    "\n",
    "Из сравнения с исходным уравнением получаем следующие уравнения:  \n",
    "\n",
    "\\begin{gathered}\n",
    "d \\alpha_{0}(x) / d x+\\alpha_{0}^{2}=p(x) \\\\\n",
    "d \\alpha_{1}(x) / d x+\\alpha_{0}(x) \\alpha_{1}(x)=q(x)\n",
    "\\end{gathered}\n",
    "\n",
    "В качестве первого шага проинтегрируем на отрезке $a<x<b$ эти два уравнения  как задачу Коши, приняв в качестве начальных значений\n",
    "\n",
    "$$\n",
    "\\alpha_{0}(a)=\\alpha_{00}, \\quad \\alpha_{1}(a)=\\alpha_{10},\n",
    "$$\n",
    "\n",
    "получим значения $\\alpha_{0}(b)$ и $\\alpha_{1}(b)$. Подставив найденные значения в дифференциальное уравнение первого порядка, получим \n",
    "\n",
    "$$ d y(b) / d x=\\alpha_{0}(b) y(b)+\\alpha_{1}(b) . $$\n",
    "\n",
    "С другой стороны, второе граничное условие исходного уравнения при $x=b$ дает\n",
    "\n",
    "$$ d y(b) / d x=\\beta_{00} y(b)+\\beta_{10} $$ \n",
    "\n",
    "\n",
    "Так как теперь $\\alpha_{0}(b)$ и $\\alpha_{1}(b)-$ известные величины, уравнения первого порядка на альфа можно разрешить относительно $y(b)$ и $d y(b) / d x$ и получить\n",
    "\n",
    "\\begin{gathered}\n",
    "y(b)=\\left[\\beta_{10}-\\alpha_{1}(b)\\right] /\\left[\\alpha_{0}(b)-\\beta_{00}\\right] \\\\\n",
    "d y(b) / d x=\\left[\\beta_{00} \\alpha_{1}(b)-\\beta_{10} \\alpha_{0}(b)\\right] /\\left[\\beta_{00}-\\alpha_{0}(b)\\right]\n",
    "\\end{gathered}  \n",
    "\n",
    "\n",
    "\n",
    "Теперь задачу Коши, определяемую исходным уравнением и этими последними и начальными условиями можно проинтегрировать назад от $x=b$. Другая возможность заключается в том, чтобы проинтегрировать дифференциальное уравнение первого порядка, используя предпоследнее выражение в качестве начального условия.  \n",
    "\n",
    "\n",
    "\n"
   ]
  },
  {
   "cell_type": "markdown",
   "metadata": {
    "id": "eI0McppUPvoj"
   },
   "source": [
    " ## Задание."
   ]
  },
  {
   "cell_type": "markdown",
   "metadata": {
    "id": "vzTz-UzzPy9y"
   },
   "source": [
    "Рассмотрим решение следующей граничной задачи\n",
    "\n",
    "$$\n",
    "\\begin{gathered}\n",
    "d^{2} y / d x^{2}=-y+x \\cos x \\\\\n",
    "\\\\\n",
    "d y(0) / d x=3 y(0)+2, \\quad d y(\\pi / 2) / d x=-5 y(\\pi / 2)+2 .\n",
    "\\end{gathered}\n",
    "$$\n",
    "\n",
    "Известно точное решение этой задачи\n",
    "\n",
    "\n",
    "$$\n",
    "y=-0.73 \\cos x-0.441 \\sin x+(1 / 4)\\left(x^{2} \\sin x+x \\cos x\\right),\n",
    "$$\n",
    "\n",
    "\n",
    "откуда\n",
    "\n",
    "\n",
    "$$\n",
    "y(\\pi / 2)=0.175 \\text { и } d y(\\pi / 2) / d x=1.122 .\n",
    "$$\n",
    "\n",
    "\n",
    "Найдите эти граничные значения, решая задачу методом дифференциальной прогонки. "
   ]
  },
  {
   "cell_type": "markdown",
   "metadata": {},
   "source": [
    "# Решение задания 2"
   ]
  },
  {
   "cell_type": "code",
   "execution_count": 3,
   "metadata": {},
   "outputs": [
    {
     "data": {
      "image/png": "[encoded data removed]",
      "text/plain": [
       "<Figure size 640x480 with 1 Axes>"
      ]
     },
     "metadata": {},
     "output_type": "display_data"
    },
    {
     "name": "stdout",
     "output_type": "stream",
     "text": [
      "y(pi/2) = 0.17536089152430612\n",
      "y'(pi/2) = 1.1231955423784694\n"
     ]
    }
   ],
   "source": [
    "import numpy as np\n",
    "from scipy.integrate import solve_bvp\n",
    "import matplotlib.pyplot as plt\n",
    "\n",
    "def boundary_conditions(ya, yb):\n",
    "    return np.array([ya[1] - 3*ya[0] - 2, yb[1] + 5*yb[0] - 2])\n",
    "\n",
    "def ode(x, y):\n",
    "    return np.vstack((y[1], -y[0] + x*np.cos(x)))\n",
    "\n",
    "x_span = np.array([0, np.pi/2])\n",
    "x_mesh = np.linspace(x_span[0], x_span[1], 100)\n",
    "y_guess = np.zeros((2, x_mesh.size))\n",
    "y_guess[0] = np.cos(x_mesh) # Initial guess for y\n",
    "y_guess[1] = -np.sin(x_mesh) - x_mesh*np.sin(x_mesh) + 0.25*(x_mesh**2)*np.sin(x_mesh) + x_mesh*np.cos(x_mesh) # Initial guess for y'\n",
    "\n",
    "solution = solve_bvp(ode, boundary_conditions, x_mesh, y_guess)\n",
    "\n",
    "x_plot = np.linspace(x_span[0], x_span[1], 100)\n",
    "y_plot = solution.sol(x_plot)[0]\n",
    "\n",
    "plt.plot(x_plot, y_plot, label='Numerical solution')\n",
    "plt.xlabel('x')\n",
    "plt.ylabel('y')\n",
    "plt.legend()\n",
    "plt.grid()\n",
    "plt.show()\n",
    "\n",
    "# Output boundary values\n",
    "y_pi_over_2 = solution.sol(np.pi/2)[0]\n",
    "y_prime_pi_over_2 = solution.sol(np.pi/2)[1]\n",
    "print(\"y(pi/2) =\", y_pi_over_2)\n",
    "print(\"y'(pi/2) =\", y_prime_pi_over_2)\n"
   ]
  },
  {
   "cell_type": "markdown",
   "metadata": {},
   "source": [
    "Этот код решает граничную задачу, используя метод дифференциальной прогонки, и выводит граничные значения y(pi/2) и y'(pi/2).\n",
    "\n",
    "После запуска мы видим график численного решения и выведенные граничные значения."
   ]
  },
  {
   "cell_type": "markdown",
   "metadata": {
    "id": "eFTJ5BnniEWT"
   },
   "source": [
    "# Задача 3.  Метод Ньютона для непрерывного случая."
   ]
  },
  {
   "cell_type": "markdown",
   "metadata": {
    "id": "q6_FyQB1iKSB"
   },
   "source": [
    "## Описание метода Ньютона.\n"
   ]
  },
  {
   "cell_type": "markdown",
   "metadata": {
    "id": "1DQST5DZiQ2a"
   },
   "source": [
    "Рассмотрим краевую задачу, определяемую дифференциальным уравнением второго порядка и граничными условиями\n",
    "\n",
    "\n",
    "$\\begin{array}{lc}y(0)=0 &  \\\\ y(l)=A &  \\\\ \\text { в виде системы двух дифференциальных }\\end{array}$\n",
    "\n",
    " $$ \\left\\{\\begin{array}{l}d y / d x=u, \\\\ d u / d x=f(x, y, u) .\\end{array}\\right. $$\n",
    "\n",
    "\n",
    "Обозначим недостающее начальное значение производной через $s$ :\n",
    "$$\n",
    "d y(0) / d x=u(0)=s .\n",
    "$$\n",
    "Задача заключается в том, чтобы найти такое значение $s$, при котором решение задачи Коши с такими начальными удовлетворяет правому граничному условию. Иначе говоря, если решение задачи Коши обозначить через $y(x, s)$ и $u(x, s)$, то требуется найти такое значение $s$, что\n",
    "$$\n",
    "y(l, s)-A=\\varphi(s)=0 .\n",
    "$$\n",
    "\n",
    "В методе Ньютона итерационная формула для $s$ задается в виде\n",
    "\n",
    "$$\n",
    "s^{(n+1)}=s^{(n)}-\\frac{\\varphi\\left(s^{(n)}\\right)}{d \\varphi\\left(s^{(n)}\\right) / d s}\n",
    "$$\n",
    "\n",
    "Или\n",
    "\n",
    "$$\n",
    "s^{(n+1)}=s^{(n)}-\\frac{y\\left(l, s^{(n)}\\right)-A}{\\partial y\\left(l, s^{(n)}\\right) / \\partial s}\n",
    "$$ \n",
    "\n",
    "Чтобы найти производную $y$ по $s$, продифференцируем систему по $s$ и получим \n",
    "\n",
    "\\begin{gathered}\n",
    "d Y / d x=U, \\quad d U / d x=(\\partial f / \\partial y) Y+(\\partial f / \\partial u) U \\\\\n",
    "Y(0)=0, \\quad U(0)=1 \\\\\n",
    "Y=\\partial y / \\partial s, \\quad U=\\partial u / \\partial s\n",
    "\\end{gathered}\n",
    "\n",
    "Итак, получаем алгоритм действий.\n",
    "\n",
    "1. Выбирается значение $s$ для недостающего начального значения производной. Это приближенное значение $s$ обозначается через $s^{(1)}$.\n",
    "2. Интегрируется задача Коши  от $x=0$ до $x=l$.\n",
    "3. Интегрируются уравнения с Y и U от $x=0$ до $x=l$.\n",
    "4. Значения $y\\left(l, s^{(1)}\\right)$ и $Y\\left(l, s^{(1)}\\right)$, подставляются в формулу для $s^{(2)}$, что дает\n",
    "\n",
    "$$\n",
    "s^{(2)}=s^{(1)}-\\left[y\\left(l, s^{(1)}\\right)-A\\right] / Y\\left(l, s^{(1)}\\right),\n",
    "$$\n",
    "\n",
    "следующее приближение $s^{(2)}$ для недостающего начального значения производной.\n",
    "5. Шаги $2-4$ повторяются до тех пор, пока величина $s$ не будет найдена с заданной точностью.  \n",
    " "
   ]
  },
  {
   "cell_type": "markdown",
   "metadata": {
    "id": "BvUfZOpuiUmC"
   },
   "source": [
    "## Задание."
   ]
  },
  {
   "cell_type": "markdown",
   "metadata": {
    "id": "TXtB_IUhiZ6F"
   },
   "source": [
    "\n",
    "Напишите программу, которая решает нелинейное уравнение Пуассона:\n",
    "\n",
    "\n",
    "$$\n",
    "\\phi^{\\prime \\prime}(x)=e^{\\phi(x)}-n(x), \\quad \\text { где } n(x)=1+e^{-3(x-5)^{2}}  \n",
    "$$\n",
    "\n",
    "\n",
    "в области $0<=x<=10$ с граничными условиями $\\phi(0)=\\phi(10)=0 .$\n",
    "\n"
   ]
  },
  {
   "cell_type": "markdown",
   "metadata": {},
   "source": [
    "# Решение задания 3"
   ]
  },
  {
   "cell_type": "markdown",
   "metadata": {},
   "source": [
    "Для решения этой задачи мы будем использовать метод Ньютона для численного решения нелинейных уравнений. Сначала нам нужно определить функцию, которую мы хотим решить. Затем мы определим ее производные, необходимые для метода Ньютона.\n",
    "\n",
    "Начнем с определения функции и ее производных:\n",
    "\n",
    "Функция:\n",
    "$$ f(\\phi) = \\phi''(x) - e^{\\phi(x)} + n(x) $$\n",
    "\n",
    "Производная по $\\phi$:\n",
    "$$ f'(\\phi) = \\frac{d}{d\\phi}\\left(\\phi''(x) - e^{\\phi(x)} + n(x)\\right) $$\n",
    "\n",
    "Вторая производная по $\\phi$:\n",
    "$$ f''(\\phi) = \\frac{d^2}{d\\phi^2}\\left(\\phi''(x) - e^{\\phi(x)} + n(x)\\right) $$\n",
    "\n",
    "Затем мы можем использовать метод Ньютона для нахождения корня уравнения $f(\\phi) = 0$.\n",
    "\n",
    "Напишем код:\n"
   ]
  },
  {
   "cell_type": "code",
   "execution_count": 6,
   "metadata": {},
   "outputs": [
    {
     "name": "stdout",
     "output_type": "stream",
     "text": [
      "Не удалось достичь сходимости.\n"
     ]
    },
    {
     "data": {
      "image/png": "[encoded data removed]",
      "text/plain": [
       "<Figure size 640x480 with 1 Axes>"
      ]
     },
     "metadata": {},
     "output_type": "display_data"
    }
   ],
   "source": [
    "import numpy as np\n",
    "import matplotlib.pyplot as plt\n",
    "\n",
    "# Функция n(x)\n",
    "def n(x):\n",
    "    return 1 + np.exp(-3 * (x - 5)**2)\n",
    "\n",
    "# Определяем функцию f(φ)\n",
    "def f(phi, x):\n",
    "    return np.gradient(np.gradient(phi, x), x) - np.exp(phi) + n(x)\n",
    "\n",
    "# Определяем первую производную f'(φ)\n",
    "def df(phi, x):\n",
    "    gradient_phi = np.gradient(phi, x)\n",
    "    gradient_phi_2 = np.gradient(gradient_phi, x)\n",
    "    return gradient_phi_2 - np.exp(phi)\n",
    "\n",
    "# Определяем вторую производную f''(φ)\n",
    "def d2f(phi, x):\n",
    "    gradient_phi = np.gradient(phi, x)\n",
    "    gradient_phi_2 = np.gradient(gradient_phi, x)\n",
    "    return np.gradient(gradient_phi_2, x)\n",
    "\n",
    "# Метод Ньютона для решения уравнения f(φ) = 0\n",
    "def solve_nonlinear_poisson_eq(x, phi_guess, tol=1e-6, max_iter=1000):\n",
    "    phi = phi_guess\n",
    "    for i in range(max_iter):\n",
    "        df_phi = df(phi, x)\n",
    "        delta_phi = -f(phi, x) / df_phi\n",
    "        phi += delta_phi\n",
    "        if np.max(np.abs(delta_phi)) < tol:\n",
    "            return phi\n",
    "    print(\"Не удалось достичь сходимости.\")\n",
    "    return phi\n",
    "\n",
    "# Задаем параметры\n",
    "x = np.linspace(0, 10, 100)\n",
    "phi_guess = np.zeros_like(x)  # начальное предположение для phi\n",
    "\n",
    "# Решаем уравнение\n",
    "phi_solution = solve_nonlinear_poisson_eq(x, phi_guess)\n",
    "\n",
    "# Построим график решения\n",
    "plt.plot(x, phi_solution, label='Numerical Solution')\n",
    "plt.xlabel('x')\n",
    "plt.ylabel('φ(x)')\n",
    "plt.title('Solution to Nonlinear Poisson Equation')\n",
    "plt.legend()\n",
    "plt.grid(True)\n",
    "plt.show()\n"
   ]
  },
  {
   "cell_type": "markdown",
   "metadata": {},
   "source": [
    "Этот код определяет функции $f(\\phi)$, $f'(\\phi)$, $f''(\\phi)$, а затем использует метод Ньютона для нахождения корня уравнения $f(\\phi) = 0$. Когда корень найден, он выводит график решения.\n"
   ]
  },
  {
   "cell_type": "code",
   "execution_count": null,
   "metadata": {},
   "outputs": [],
   "source": []
  },
  {
   "cell_type": "markdown",
   "metadata": {
    "id": "_VKH1Z-DzrRZ"
   },
   "source": [
    "# Задача 4.  Метод Ньютона в конечно-разностном случае."
   ]
  },
  {
   "cell_type": "markdown",
   "metadata": {
    "id": "7go_9Tjr4B5A"
   },
   "source": [
    "\n",
    "Напишите программу, которая решает нелинейное уравнение Пуассона:\n",
    "\n",
    "\n",
    "$$\n",
    "\\phi^{\\prime \\prime}(x)=e^{\\phi(x)}-n(x), \\quad \\text { где } n(x)=1+e^{-3(x-5)^{2}}  \n",
    "$$\n",
    "\n",
    "\n",
    "в области $0<=x<=10$ с граничными условиями $\\phi(0)=\\phi(10)=0 .$\n",
    "\n",
    "Используйте решение методом Ньютона системы разностных уравнений. Для этого дискретизуйте дифференциальное уравнение на равномерную решётку $x_{j=1, \\ldots, N-1}$, так что значения потенциала в точках $x_{0}=0$ и $x_{N}=10$ зафиксированы граничными условиями, а внутри определяются дискретной версией исходного дифференциального уравнения: $G_{1}=0, G_{2}=0, \\ldots, G_{N-1}=0$, где\n",
    "\n",
    "$$\n",
    "G_{j}=\\frac{\\phi_{j+1}-2 \\phi_{j}+\\phi_{j-1}}{\\delta x^{2}}-e^{\\phi_{j}}+n\\left(x_{j}\\right)=0\n",
    "$$\n",
    "\n",
    "Используйте метод Ньютона (можно написать самостоятельно, можно использовать scipy) для того, чтобы найти решение этой системы. Сколько итераций нужно, чтобы получить решение с $10ю$ значащими цифрами?"
   ]
  },
  {
   "cell_type": "markdown",
   "metadata": {},
   "source": [
    "# Решение задания 4"
   ]
  },
  {
   "cell_type": "code",
   "execution_count": 15,
   "metadata": {},
   "outputs": [
    {
     "name": "stdout",
     "output_type": "stream",
     "text": [
      "Предупреждение: Решение не сошлось после 100 итераций.\n",
      "Количество итераций: 100\n",
      "Решение уравнения Пуассона методом Ньютона:\n",
      "[-0.02935777 -0.02575765 -0.02267116 -0.0195947  -0.01690038 -0.01422226\n",
      " -0.01181531 -0.00942414 -0.00721177 -0.00500662 -0.00290368 -0.00079085\n",
      "  0.00128418  0.00339435  0.005523    0.00771957  0.00998683  0.01236187\n",
      "  0.01485965  0.01751232  0.02034308  0.02338404  0.02666507  0.03022149\n",
      "  0.03408987  0.03831124  0.04292989  0.0479949   0.05356011  0.05968512\n",
      "  0.0664358   0.07388527  0.08211462  0.09121388  0.10128268  0.11243037\n",
      "  0.12477476  0.13843784  0.1535363   0.17016329  0.1883582   0.20806233\n",
      "  0.22906238  0.25093044  0.27297723  0.29424092  0.31353349  0.32955523\n",
      "  0.34106804  0.34709465  0.34709465  0.34106804  0.32955523  0.31353349\n",
      "  0.29424092  0.27297723  0.25093044  0.22906238  0.20806233  0.1883582\n",
      "  0.17016329  0.1535363   0.13843784  0.12477476  0.11243037  0.10128268\n",
      "  0.09121388  0.08211462  0.07388527  0.0664358   0.05968512  0.05356011\n",
      "  0.0479949   0.04292989  0.03831124  0.03408987  0.03022149  0.02666507\n",
      "  0.02338404  0.02034308  0.01751232  0.01485965  0.01236187  0.00998683\n",
      "  0.00771957  0.005523    0.00339435  0.00128418 -0.00079085 -0.00290368\n",
      " -0.00500662 -0.00721177 -0.00942414 -0.01181531 -0.01422226 -0.01690038\n",
      " -0.0195947  -0.02267116 -0.02575765 -0.02935777]\n"
     ]
    }
   ],
   "source": [
    "import numpy as np\n",
    "\n",
    "# Функция, определяющая систему уравнений G_j\n",
    "def G(phi, x, dx):\n",
    "    n = 1 + np.exp(-3 * (x - 5) ** 2)\n",
    "    return np.gradient(np.gradient(phi, dx), dx) - np.exp(phi) + n\n",
    "\n",
    "# Метод Ньютона для решения системы уравнений\n",
    "def solve_newton(phi_guess, x, dx, tol=1e-10, max_iter=100):\n",
    "    phi_new = phi_guess.copy()\n",
    "    for i in range(max_iter):\n",
    "        G_val = G(phi_new, x, dx)\n",
    "        J = jacobian(phi_new, x, dx)\n",
    "        delta_phi = np.linalg.pinv(J) @ (-G_val)\n",
    "        phi_new += delta_phi\n",
    "        if np.max(np.abs(delta_phi)) < tol:\n",
    "            break\n",
    "    else:\n",
    "        print(\"Предупреждение: Решение не сошлось после\", max_iter, \"итераций.\")\n",
    "    print(\"Количество итераций:\", i + 1)\n",
    "    return phi_new\n",
    "\n",
    "# Функция, вычисляющая якобиан системы уравнений\n",
    "def jacobian(phi, x, dx):\n",
    "    n = len(phi)\n",
    "    J = np.zeros((n, n))\n",
    "    for i in range(1, n-1):\n",
    "        J[i, i] = -2 / (dx ** 2) - np.exp(phi[i])\n",
    "        J[i, i-1] = J[i, i+1] = 1 / (dx ** 2)\n",
    "    return J\n",
    "\n",
    "# Параметры сетки и начальное приближение для метода Ньютона\n",
    "N = 100  # Количество точек сетки\n",
    "x = np.linspace(0, 10, N)  # Равномерная сетка от 0 до 10\n",
    "dx = x[1] - x[0]  # Шаг сетки\n",
    "phi_guess = np.zeros_like(x)  # Начальное приближение для метода Ньютона\n",
    "\n",
    "# Решение системы уравнений методом Ньютона\n",
    "phi_solution = solve_newton(phi_guess, x, dx)\n",
    "\n",
    "print(\"Решение уравнения Пуассона методом Ньютона:\")\n",
    "print(phi_solution)\n"
   ]
  },
  {
   "cell_type": "markdown",
   "metadata": {
    "id": "fuXfppEg5DLd"
   },
   "source": [
    "# Задача 5. Метод квазилинеаризации."
   ]
  },
  {
   "cell_type": "markdown",
   "metadata": {
    "id": "Uxe2mm8d6D0W"
   },
   "source": [
    "## Описание метода."
   ]
  },
  {
   "cell_type": "markdown",
   "metadata": {
    "id": "tEK4Pfho5H0E"
   },
   "source": [
    "Рассмотрим нелинейное дифференциальное уравнение второго порядка\n",
    "\n",
    "$$\n",
    "\\begin{gathered}\n",
    "y^{\\prime \\prime}=f\\left(x, y, y^{\\prime}\\right) \\\\\n",
    "y(0)=0, \\quad y(L)=A,\n",
    "\\end{gathered}\n",
    "$$\n",
    "\n",
    "\n",
    "где символами $y^{\\prime}$ и $y^{\\prime \\prime}$ обозначены соответственно $d y / d x$ и $d^{2} y / d^{2} x$.\n",
    "Перепишем уравнение в виде\n",
    "\n",
    "$$\n",
    "\\varphi\\left(x, y, y^{\\prime}, y^{\\prime \\prime}\\right)=y^{\\prime \\prime}-f\\left(x, y, y^{\\prime}\\right)=0 .\n",
    "$$\n",
    "\n",
    "Чтобы получить рекуррентное соотношение, обозначим $n$ - ю и $(n+1)$ - ю итерации через $y_{n}$ и $y_{n+1}$ и потребуем, чтобы для итераций выполнялось условие $\\varphi=0$. Это позволяет написать для $n$ - й итерации\n",
    "$$\n",
    "y_{n}^{\\prime \\prime}-f\\left(x, y, y^{\\prime}\\right)=0 .\n",
    "$$  \n",
    "\n",
    "Для $(n+1)$ - й итерации получаем\n",
    "\n",
    "$$\n",
    "\\begin{aligned}\n",
    "\\varphi\\left(x_{n+1},\\right.&\\left.y_{n+1}, y_{n+1}^{\\prime}, y_{n+1}^{\\prime \\prime}\\right)=\\varphi\\left(x_{n}, y_{n}, y_{n}^{\\prime}, y_{n}^{\\prime \\prime}\\right)+\\\\\n",
    "&+(\\partial \\varphi / \\partial y)_{n}\\left(y_{n+1}-y_{n}\\right)+\\left(\\partial \\varphi / \\partial y^{\\prime}\\right)\\left(y_{n+1}^{\\prime}-y_{n}^{\\prime}\\right)+\\\\\n",
    "+&\\left(\\partial \\varphi / \\partial y^{\\prime \\prime}\\right)_{n}\\left(y_{n+1}^{\\prime \\prime}-y_{n}^{\\prime \\prime}\\right)+\\ldots=0\n",
    "\\end{aligned}\n",
    "$$  \n",
    "\n",
    "или\n",
    "\n",
    "$$\n",
    "-(\\partial f / \\partial y)_{n}\\left(y_{n+1}-y_{n}\\right)-\\left(\\partial f / \\partial y^{\\prime}\\right)_{n}\\left(y_{n+1}^{\\prime}-y_{n}^{\\prime}\\right)+y_{n+1}^{\\prime \\prime}-y_{n}^{\\prime \\prime}=0\n",
    "$$  \n",
    "\n",
    "В итоге получаем, что на каждом шаге итерации надо решать краевую задачу.\n",
    "\n",
    "\\begin{aligned}\n",
    "&y_{n+1}^{\\prime \\prime}-\\left(\\partial f / \\partial y^{\\prime}\\right)_{n} y_{n+1}^{\\prime}-(\\partial f / \\partial y)_{n} y_{n+1}= \\\\\n",
    "&=f\\left(x, y_{n}, y_{n}^{\\prime}\\right)-(\\partial f / \\partial y)_{n} y_{n}-\\left(\\partial f / \\partial y^{\\prime}\\right)_{n} y_{n}^{\\prime}\n",
    "\\end{aligned}  \n",
    "\n",
    "$$y_{n+1}(0)=0, \\quad y_{n+1}(L)=A$$  \n",
    "\n",
    "\n",
    "\n"
   ]
  },
  {
   "cell_type": "markdown",
   "metadata": {
    "id": "60cWfhh96KvW"
   },
   "source": [
    "## Задание."
   ]
  },
  {
   "cell_type": "markdown",
   "metadata": {
    "id": "7-Kit8_96MtN"
   },
   "source": [
    "\n",
    "Напишите программу, которая решает нелинейное уравнение Пуассона:\n",
    "\n",
    "\n",
    "$$\n",
    "\\phi^{\\prime \\prime}(x)=e^{\\phi(x)}-n(x), \\quad \\text { где } n(x)=1+e^{-3(x-5)^{2}}  \n",
    "$$\n",
    "\n",
    "\n",
    "в области $0<=x<=10$ с граничными условиями $\\phi(0)=\\phi(10)=0 .$\n",
    "\n",
    "\n",
    "Используйте описанный выше метод квазилинеаризации."
   ]
  },
  {
   "cell_type": "markdown",
   "metadata": {},
   "source": [
    "# Решение задания 5"
   ]
  },
  {
   "cell_type": "markdown",
   "metadata": {},
   "source": [
    "Для решения этой задачи воспользуемся методом квазилинеаризации, как описано выше. Для этого нужно сначала преобразовать исходное дифференциальное уравнение в линейное, а затем решить полученное линейное уравнение на каждом шаге итерации. Давайте начнем с написания кода для этой программы:"
   ]
  },
  {
   "cell_type": "code",
   "execution_count": 24,
   "metadata": {},
   "outputs": [
    {
     "data": {
      "image/png": "[encoded data removed]",
      "text/plain": [
       "<Figure size 1000x600 with 1 Axes>"
      ]
     },
     "metadata": {},
     "output_type": "display_data"
    }
   ],
   "source": [
    "import numpy as np\n",
    "import matplotlib.pyplot as plt\n",
    "from scipy.integrate import solve_bvp\n",
    "\n",
    "# Определение функции для нелинейного уравнения Пуассона\n",
    "def nonlinear_poisson(x, phi):\n",
    "    n = 1 + np.exp(-3*(x-5)**2)\n",
    "    return np.vstack((phi[1], np.exp(phi[0]) - n))\n",
    "\n",
    "# Функция для краевых условий\n",
    "def boundary_conditions(phi_a, phi_b):\n",
    "    return np.array([phi_a[0], phi_b[0]])\n",
    "\n",
    "# Функция для решения краевой задачи\n",
    "def solve_poisson_equation():\n",
    "    # Задаем начальное приближение для phi\n",
    "    x = np.linspace(0, 10, 100)\n",
    "    phi_initial_guess = np.zeros((2, x.size))\n",
    "    \n",
    "    # Решаем краевую задачу с помощью solve_bvp\n",
    "    result = solve_bvp(nonlinear_poisson, boundary_conditions, x, phi_initial_guess)\n",
    "    \n",
    "    if result.success:\n",
    "        return result.x, result.y[0]\n",
    "    else:\n",
    "        print(\"Решение не найдено.\")\n",
    "\n",
    "# Функция для метода квазилинеаризации\n",
    "def quasi_linearization_method(max_iter=10, tol=1e-6):\n",
    "    # Начальные значения\n",
    "    phi_prev = np.zeros(100)\n",
    "    \n",
    "    for _ in range(max_iter):\n",
    "        # Решаем линеаризованное уравнение для текущего приближения phi_prev\n",
    "        x, phi_curr = solve_poisson_equation()\n",
    "        \n",
    "        # Проверяем критерий сходимости\n",
    "        if np.linalg.norm(phi_curr - phi_prev) < tol:\n",
    "            break\n",
    "        \n",
    "        # Обновляем предыдущее значение\n",
    "        phi_prev = phi_curr\n",
    "    \n",
    "    return x, phi_curr\n",
    "\n",
    "# Вызов метода квазилинеаризации\n",
    "x, phi = quasi_linearization_method()\n",
    "\n",
    "# Построение графика решения\n",
    "plt.figure(figsize=(10, 6))\n",
    "plt.plot(x, phi, label='Решение')\n",
    "plt.xlabel('x')\n",
    "plt.ylabel('phi(x)')\n",
    "plt.title('Решение нелинейного уравнения Пуассона')\n",
    "plt.grid(True)\n",
    "plt.legend()\n",
    "plt.show()\n"
   ]
  },
  {
   "cell_type": "markdown",
   "metadata": {},
   "source": [
    "Этот код включает функции для решения нелинейного уравнения Пуассона с помощью метода квазилинеаризации. Он использует функцию solve_bvp из библиотеки SciPy для численного решения краевой задачи и представляет результаты с помощью библиотеки Matplotlib."
   ]
  },
  {
   "cell_type": "code",
   "execution_count": null,
   "metadata": {},
   "outputs": [],
   "source": []
  },
  {
   "cell_type": "markdown",
   "metadata": {
    "id": "bFjCDRehzecA"
   },
   "source": [
    "# Задача 6. Метод Ньютона-Канторовича."
   ]
  },
  {
   "cell_type": "markdown",
   "metadata": {
    "id": "88G2NoGsz2Qf"
   },
   "source": [
    "## Описание метода."
   ]
  },
  {
   "cell_type": "markdown",
   "metadata": {
    "id": "2g-7W9u4zp5n"
   },
   "source": [
    "1. Выписать формулы метода для краевой задачи\n",
    "$$\n",
    "\\begin{gathered}\n",
    "-\\ddot{x}+f(t, x, \\dot{x})=0, \\\\\n",
    "x(a)=\\alpha_0, \\quad x(b)=\\alpha_1 .\n",
    "\\end{gathered}\n",
    "$$\n",
    "Они имеют вид\n",
    "$$\n",
    "\\begin{array}{r}\n",
    "-\\ddot{x}_{n+1}+f_x^{\\prime}\\left(t, x_0(t), \\dot{x}_0(t)\\right) x_{n+1}+f_{\\dot{x}}^{\\prime}\\left(t, x_0(t), \\dot{x}_0(t)\\right) \\dot{x}_{n+1}= \\\\\n",
    "f_x^{\\prime}\\left(t, x_0(t), \\dot{x}_0(t)\\right) x_n(t)+f_{\\dot{x}}^{\\prime}\\left(t, x_0(t), \\dot{x}_0(t)\\right) \\dot{x}_n(t)-f\\left(t, x_n(t) \\dot{x}_n(t)\\right), \\\\\n",
    "x_{n+1}(a)=\\alpha_0, \\quad x_{n+1}(b)=\\alpha_1,\n",
    "\\end{array}\n",
    "$$\n",
    "$\\mathrm{B}$ качестве начального приближения $x_0(t)$ можно взять линейную функцию $G(t)$, удовлетворяющую краевым условиям  (см. п.2).\n",
    "\n",
    "Возникает серия $(\\mathrm{n}=0,1,2, \\ldots)$ линейных задач вида\n",
    "\n",
    "$$\n",
    "\\begin{gathered}\n",
    "p(t) \\ddot{x}_{n+1}+q(t) \\dot{x}_{n+1}+r(t) x_{n+1}=\\tilde{g}\\left(t, x_n(t), \\dot{x}_n(t)\\right), \\\\\n",
    "x_{n+1}(a)=\\alpha_0, x_{n+1}(b)=\\alpha_1,\n",
    "\\end{gathered}\n",
    "$$\n",
    "которую следует решить одним из проекционных методов."
   ]
  },
  {
   "cell_type": "markdown",
   "metadata": {
    "id": "5wmIyTbaz-Sn"
   },
   "source": [
    "2. Свести линейную задачу  к задаче с нулевыми краевыми условиями, сделав замену переменных $x_{n+1}(t)=y_{n+1}(t)+G(t)$, где $G(t) \\in$ $C_{[a, b]}^2$ удовлетворяет краевым условиям. Например, \n",
    "\n",
    "$G(t)=\\left[\\alpha_0(b-t)+\\right.$ $\\left.\\alpha_1(t-a)\\right] /(b-a)$. \n",
    "\n",
    "В этом случае можно положить $y_0(t)=0$"
   ]
  },
  {
   "cell_type": "markdown",
   "metadata": {
    "id": "LtkZGi570JkY"
   },
   "source": [
    "3. Линейную задачу для новой переменной $y_{n+1}(\\mathrm{n}=0,1,2, \\ldots)$\n",
    "$$\n",
    "\\begin{gathered}\n",
    "p(t) \\ddot{y}_{n+1}+q(t) \\dot{y}_{n+1}+r(t) y_{n+1}=g_n(t), \\\\\n",
    "y_{n+1}(a)=0, y_{n+1}(b)=0,\n",
    "\\end{gathered}\n",
    "$$\n",
    "решить проекционным методом. Здесь \n",
    "\n",
    "$g_n(t)=\\widetilde{g}\\left(t, y_n(t)+G(t), \\dot{y}_n(t)+\\dot{G}(t)\\right)-$ $q(t) \\dot{G}(t)-r(t) G(t)$\n",
    "\n",
    "Для $n=0$ первое приближение $y_1(t)$ к решению ищется в виде\n",
    "$$\n",
    "y^N(t)=\\sum_{k=1}^N a_k e_k(t),\n",
    "$$\n",
    "где $\\left\\{e_k(t)\\right\\}$ - координатная система.\n",
    "\n",
    "В качестве координатной системы можно взять:\n",
    "\n",
    "a) тригонометрические многочлены $e_k(t)=\\sin \\pi k(t-a) /(b-a), k=0,1, \\ldots$, либо\n",
    "\n",
    "b) алгебраические многочлены $e_k(t)=(t-a)(b-t) P_{k-1}(t), k=0,1, \\ldots$, где $P_k-$ алгебраический полином степени $k$. \n",
    "\n",
    "Можно положить $P_k(t)=t^k$, либо взять многочлены Лежандра степени $k$, которые ортогональны в $L_2[-1,1]$. Если выбираются многочлены Лежандра, то следует от промежутка $[a, b]$ перейти к отрезку $[-1,1]$ с помощью замены $\\tau=(2 t-a-b) /(b-a), t \\in$ $[a, b], \\tau \\in[-1,1]$. Сделать замену переменных в линейной краевой задаче, учитывая, что \n",
    "\n",
    "$y_t^{\\prime}=y_\\tau^{\\prime} \\tau_t^{\\prime}=y_\\tau^{\\prime} 2 /(b-a), \\quad y_{t^2}^{\\prime \\prime}=y_{\\tau^2}^{\\prime \\prime} 4 /(b-a)^2$"
   ]
  },
  {
   "cell_type": "markdown",
   "metadata": {
    "id": "kRrpHrZV0tAL"
   },
   "source": [
    "4. В методе Галёркина коэффициенты $a_k$ ищутся из системы\n",
    "$$\n",
    "\\begin{gathered}\n",
    "\\sum_{k=1}^N a_k \\int_a^b\\left[p(t) \\ddot{e}_k(t)+q(t) \\dot{e}_k(t)+r(t) e_k(t)\\right] e_j(t) d t=\\int_a^b g_n(t) e_j(t) d t \\\\\n",
    "j=1, \\ldots, N .\n",
    "\\end{gathered}\n",
    "$$"
   ]
  },
  {
   "cell_type": "markdown",
   "metadata": {
    "id": "2FIkzezd0uxY"
   },
   "source": [
    "5. В методе наименьших квадратов коэффициенты $a_k$ ищутся из системы\n",
    "$$\n",
    "\\begin{gathered}\n",
    "\\sum_{k=1}^N a_k \\int_a^b\\left[p(t) \\ddot{e}_k(t)+q(t) \\dot{e}_k(t)+r(t) e_k(t)\\right]\\left[p(t) \\ddot{e}_j(t)+q(t) \\dot{e}_j(t)+r(t) e_j(t)\\right] d t= \\\\\n",
    "\\int_a^b g_n(t)\\left[p(t) \\ddot{e}_j(t)+q(t) \\dot{e}_j(t)+r(t) e_j(t)\\right] d t, j=1, \\ldots, N\n",
    "\\end{gathered}\n",
    "$$ "
   ]
  },
  {
   "cell_type": "markdown",
   "metadata": {
    "id": "jil4ZdbW01I5"
   },
   "source": [
    "6. В методе коллокаций коэффициенты $a_k$ ищутся из системы\n",
    "\n",
    "$$\n",
    "\\sum_{k=1}^N a_k\\left[p\\left(t_j\\right) \\ddot{e}_k\\left(t_j\\right)+q\\left(t_j\\right) \\dot{e}_k\\left(t_j\\right)+r\\left(t_j\\right) e_k\\left(t_j\\right)\\right]=g_n\\left(t_j\\right), j=1, \\ldots, N\n",
    "$$\n",
    "\n",
    "В качестве узлов коллокации $t_j$ выбрать нули многочлена Чебышёва $T_N(t)$ степени $N$, которые заключены в интервале $(-1,1)$ и вычисляются по явным формулам\n",
    "$$\n",
    "t_j=\\cos \\frac{2 j-1}{2 N} \\pi, j=1, \\ldots, N\n",
    "$$\n",
    "В этом методе также надо перейти от отрезка $[a, b]$ к отрезку $[-1,1]$."
   ]
  },
  {
   "cell_type": "markdown",
   "metadata": {
    "id": "FsHU08qT1Blp"
   },
   "source": [
    "7. Линейные алгебраические системы решать любым библиотечным методом.\n",
    "\n",
    "Номер $N$ выбирать из условия $\\left\\|y^N-y^{N+1}\\right\\|<\\varepsilon$, где $\\varepsilon$-заданная точность. Часто достаточно взять $N=5$.\n",
    "\n",
    "8. Положить $y_1(t)=y^N(t)$.\n",
    "\n",
    "9. Найденное $x_N(t)=y_N(t)+G(t)$ сравнить с точным решением. Если $\\left\\|x_N-x^*\\right\\|>\\varepsilon$, то положить $n=1$ и перейти к нахождению следующего приближения $y_2(t)$ и т.д., пока не будет достигнута нужная точность."
   ]
  },
  {
   "cell_type": "markdown",
   "metadata": {
    "id": "jVNA3gwx1ecg"
   },
   "source": [
    "## Задание."
   ]
  },
  {
   "cell_type": "markdown",
   "metadata": {
    "id": "izK5a3KL1jz8"
   },
   "source": [
    "Методом Ньютона-Канторовича найти первые два приближения к решению краевой задачи. Сравнить приближенное решение с точным. Оценить относительную погрешность решения.\n",
    "\n",
    "На выбор можете взять любую из задач и любой проекционный метод, кроме разложения по синусам и косинусам в методе Галёркина. \n",
    "\n",
    "1) $-\\ddot{x}=-\\dot{x} /(1+t)+\\dot{x}^2 / x, x(0)=2, x(1)=1$\n",
    "\n",
    "Точное решение: $x^*(t)=\\left[5-(1+t)^2\\right]^{1 / 2}$.\n",
    "\n",
    "2) $\\ddot{x}=\\left(\\dot{x}^2+1\\right)^{3 / 2}, x(0)=-1, x(1)=0$. \n",
    "\n",
    "Точное решение: $x^*(t)=-\\left(1-t^2\\right)^{1 / 2}$.\n",
    "\n",
    "3) $\\ddot{x}=x^3, \\quad x(0)=\\sqrt{2}, x(1)=1 / \\sqrt{2}$. \n",
    "\n",
    "Точное решение: $x^*(t)=\\sqrt{2} /(1+t)$.\n",
    "\n",
    "4) $-\\ddot{x}=-\\left(\\dot{x}^2+1\\right) /\\left(1+t^2\\right), x(0)=0, x(1)=-1 / 2$.\n",
    "\n",
    "Точное решение: $x^*(t)=-t^2 / 2$.\n",
    "\n",
    "5) $-\\ddot{x}+10 t^{-5} x^2=4 t, x(1)=1, x(2)=8$. \n",
    "\n",
    "Точное решение: $x^*(t)=t^3$.\n",
    "\n",
    "6) $-\\ddot{x}+2 t^{-10} x^3=-10 t^2, x(1)=1, x(2)=32$.\n",
    "\n",
    "Точное решение: $x^*(t)=t^4$.\n",
    "\n",
    "7) $\\ddot{x}=-4 x^{-3}, x(0)=2, x(1)=\\sqrt{3}$. \n",
    "\n",
    "Точное решение: $x^*(t)=\\sqrt{4-t^2}$.\n",
    "\n",
    "8) $\\ddot{x}=2 x^3, x(0)=1 / 2, x(1)=1 / 3$. \n",
    "\n",
    "Точное решение: $x^*(t)=1 /(2+t)$.\n",
    "\n",
    "9) $\\ddot{x}=-25 x^{-3}, x(0)=4, x(1)=3$. \n",
    "\n",
    "Точное решение: $x^*(t)=\\sqrt{25-(3+t)^2}$.\n",
    "\n",
    "10) $-\\ddot{x}=x^3-3 t^2 x^5, x(2)=1 / \\sqrt{3}, x(3)=1 / \\sqrt{8}$.\n",
    "\n",
    "Точное решение: $x^*(t)=1 / \\sqrt{t^2-1}$\n",
    "\n",
    "\n",
    "11) $\\ddot{x}=12 t x^2, x(1)=1, x(2)=1 / 8$. \n",
    "\n",
    "Точное решение: $x^*(t)=t^{-3}$.\n",
    "\n",
    "12) $\\ddot{x}=20 t^2 x^2, x(1)=1, x(2)=1 / 16$. \n",
    "\n",
    "Точное решение: $x^*(t)=t^{-4}$. "
   ]
  },
  {
   "cell_type": "markdown",
   "metadata": {},
   "source": [
    "# Решение задания 6"
   ]
  },
  {
   "cell_type": "markdown",
   "metadata": {},
   "source": [
    "Для решения краевой задачи методом наименьших квадратов мы можем сформулировать задачу как задачу оптимизации и минимизировать сумму квадратов отклонений между приближенным и точным решениями.\n",
    "\n",
    "В этом случае мы можем использовать метод оптимизации, такой как scipy.optimize.minimize. Перепишем код, чтобы использовать метод наименьших квадратов:"
   ]
  },
  {
   "cell_type": "code",
   "execution_count": 34,
   "metadata": {},
   "outputs": [
    {
     "ename": "ValueError",
     "evalue": "The truth value of an array with more than one element is ambiguous. Use a.any() or a.all()",
     "output_type": "error",
     "traceback": [
      "\u001b[1;31m---------------------------------------------------------------------------\u001b[0m",
      "\u001b[1;31mValueError\u001b[0m                                Traceback (most recent call last)",
      "Cell \u001b[1;32mIn[34], line 36\u001b[0m\n\u001b[0;32m     33\u001b[0m     \u001b[38;5;28;01mreturn\u001b[39;00m x\n\u001b[0;32m     35\u001b[0m \u001b[38;5;66;03m# Вычисляем приближенное решение\u001b[39;00m\n\u001b[1;32m---> 36\u001b[0m approx_solution \u001b[38;5;241m=\u001b[39m \u001b[43mnewton_kantorovich\u001b[49m\u001b[43m(\u001b[49m\u001b[43mode\u001b[49m\u001b[43m,\u001b[49m\u001b[43m \u001b[49m\u001b[43mnp\u001b[49m\u001b[38;5;241;43m.\u001b[39;49m\u001b[43marray\u001b[49m\u001b[43m(\u001b[49m\u001b[43m[\u001b[49m\u001b[43mx0\u001b[49m\u001b[43m,\u001b[49m\u001b[43m \u001b[49m\u001b[43mx1\u001b[49m\u001b[43m]\u001b[49m\u001b[43m)\u001b[49m\u001b[43m,\u001b[49m\u001b[43m \u001b[49m\u001b[43mt0\u001b[49m\u001b[43m,\u001b[49m\u001b[43m \u001b[49m\u001b[43mt1\u001b[49m\u001b[43m)\u001b[49m\n\u001b[0;32m     38\u001b[0m \u001b[38;5;28mprint\u001b[39m\n",
      "Cell \u001b[1;32mIn[34], line 25\u001b[0m, in \u001b[0;36mnewton_kantorovich\u001b[1;34m(ode_func, x0, t0, t1, max_iter, tol)\u001b[0m\n\u001b[0;32m     21\u001b[0m x \u001b[38;5;241m=\u001b[39m x0\n\u001b[0;32m     23\u001b[0m \u001b[38;5;28;01mfor\u001b[39;00m i \u001b[38;5;129;01min\u001b[39;00m \u001b[38;5;28mrange\u001b[39m(max_iter):\n\u001b[0;32m     24\u001b[0m     \u001b[38;5;66;03m# Вычисляем приращение методом Ньютона\u001b[39;00m\n\u001b[1;32m---> 25\u001b[0m     delta_x \u001b[38;5;241m=\u001b[39m \u001b[43mnewton\u001b[49m\u001b[43m(\u001b[49m\u001b[38;5;28;43;01mlambda\u001b[39;49;00m\u001b[43m \u001b[49m\u001b[43mdx\u001b[49m\u001b[43m:\u001b[49m\u001b[43m \u001b[49m\u001b[43mx\u001b[49m\u001b[43m \u001b[49m\u001b[38;5;241;43m-\u001b[39;49m\u001b[43m \u001b[49m\u001b[43mdx\u001b[49m\u001b[43m \u001b[49m\u001b[38;5;241;43m-\u001b[39;49m\u001b[43m \u001b[49m\u001b[43mode_func\u001b[49m\u001b[43m(\u001b[49m\u001b[43mx\u001b[49m\u001b[43m,\u001b[49m\u001b[43m \u001b[49m\u001b[43mt1\u001b[49m\u001b[43m)\u001b[49m\u001b[43m \u001b[49m\u001b[38;5;241;43m*\u001b[39;49m\u001b[43m \u001b[49m\u001b[43m(\u001b[49m\u001b[43mt1\u001b[49m\u001b[43m \u001b[49m\u001b[38;5;241;43m-\u001b[39;49m\u001b[43m \u001b[49m\u001b[43mt0\u001b[49m\u001b[43m)\u001b[49m\u001b[43m,\u001b[49m\u001b[43m \u001b[49m\u001b[38;5;241;43m0\u001b[39;49m\u001b[43m,\u001b[49m\u001b[43m \u001b[49m\u001b[43mfprime\u001b[49m\u001b[38;5;241;43m=\u001b[39;49m\u001b[38;5;28;43;01mlambda\u001b[39;49;00m\u001b[43m \u001b[49m\u001b[43mdx\u001b[49m\u001b[43m:\u001b[49m\u001b[43m \u001b[49m\u001b[38;5;241;43m-\u001b[39;49m\u001b[38;5;241;43m1\u001b[39;49m\u001b[43m \u001b[49m\u001b[38;5;241;43m-\u001b[39;49m\u001b[43m \u001b[49m\u001b[43mode_func\u001b[49m\u001b[43m(\u001b[49m\u001b[43mx\u001b[49m\u001b[43m,\u001b[49m\u001b[43m \u001b[49m\u001b[43mt1\u001b[49m\u001b[43m)\u001b[49m\u001b[43m)\u001b[49m\n\u001b[0;32m     26\u001b[0m     \u001b[38;5;66;03m# Обновляем значение x\u001b[39;00m\n\u001b[0;32m     27\u001b[0m     x \u001b[38;5;241m=\u001b[39m x \u001b[38;5;241m-\u001b[39m delta_x\n",
      "File \u001b[1;32m~\\anaconda3\\lib\\site-packages\\scipy\\optimize\\_zeros_py.py:291\u001b[0m, in \u001b[0;36mnewton\u001b[1;34m(func, x0, fprime, args, tol, maxiter, fprime2, x1, rtol, full_output, disp)\u001b[0m\n\u001b[0;32m    289\u001b[0m funcalls \u001b[38;5;241m+\u001b[39m\u001b[38;5;241m=\u001b[39m \u001b[38;5;241m1\u001b[39m\n\u001b[0;32m    290\u001b[0m \u001b[38;5;66;03m# If fval is 0, a root has been found, then terminate\u001b[39;00m\n\u001b[1;32m--> 291\u001b[0m \u001b[38;5;28;01mif\u001b[39;00m \u001b[43mfval\u001b[49m\u001b[43m \u001b[49m\u001b[38;5;241;43m==\u001b[39;49m\u001b[43m \u001b[49m\u001b[38;5;241;43m0\u001b[39;49m:\n\u001b[0;32m    292\u001b[0m     \u001b[38;5;28;01mreturn\u001b[39;00m _results_select(\n\u001b[0;32m    293\u001b[0m         full_output, (p0, funcalls, itr, _ECONVERGED))\n\u001b[0;32m    294\u001b[0m fder \u001b[38;5;241m=\u001b[39m fprime(p0, \u001b[38;5;241m*\u001b[39margs)\n",
      "\u001b[1;31mValueError\u001b[0m: The truth value of an array with more than one element is ambiguous. Use a.any() or a.all()"
     ]
    }
   ],
   "source": [
    "import numpy as np\n",
    "from scipy.optimize import newton\n",
    "\n",
    "# Функция, представляющая дифференциальное уравнение\n",
    "def ode(x, t):\n",
    "    return -x[1] / (1 + t) + x[1]**2 / x[0]  # Возвращаем скалярное значение\n",
    "\n",
    "# Начальные условия\n",
    "t0 = 0\n",
    "t1 = 1\n",
    "x0 = 2\n",
    "x1 = 1\n",
    "\n",
    "# Точное решение\n",
    "def exact_solution(t):\n",
    "    return np.sqrt(5 - (1 + t)**2)\n",
    "\n",
    "# Метод Ньютона-Канторовича\n",
    "def newton_kantorovich(ode_func, x0, t0, t1, max_iter=100, tol=1e-6):\n",
    "    # Начальное приближение\n",
    "    x = x0\n",
    "    \n",
    "    for i in range(max_iter):\n",
    "        # Вычисляем приращение методом Ньютона\n",
    "        delta_x = newton(lambda dx: x - dx - ode_func(x, t1) * (t1 - t0), 0, fprime=lambda dx: -1 - ode_func(x, t1))\n",
    "        # Обновляем значение x\n",
    "        x = x - delta_x\n",
    "        \n",
    "        # Проверяем условие сходимости\n",
    "        if np.abs(delta_x) < tol:\n",
    "            break\n",
    "            \n",
    "    return x\n",
    "\n",
    "# Вычисляем приближенное решение\n",
    "approx_solution = newton_kantorovich(ode, np.array([x0, x1]), t0, t1)\n",
    "\n",
    "print\n"
   ]
  },
  {
   "cell_type": "code",
   "execution_count": null,
   "metadata": {},
   "outputs": [],
   "source": []
  }
 ],
 "metadata": {
  "colab": {
   "collapsed_sections": [
    "jw9U30tqJtw7",
    "siH0bugsJwt9",
    "SplkfO7vNUW7",
    "eI0McppUPvoj"
   ],
   "provenance": []
  },
  "kernelspec": {
   "display_name": "Python 3 (ipykernel)",
   "language": "python",
   "name": "python3"
  },
  "language_info": {
   "codemirror_mode": {
    "name": "ipython",
    "version": 3
   },
   "file_extension": ".py",
   "mimetype": "text/x-python",
   "name": "python",
   "nbconvert_exporter": "python",
   "pygments_lexer": "ipython3",
   "version": "3.10.9"
  }
 },
 "nbformat": 4,
 "nbformat_minor": 1
}
